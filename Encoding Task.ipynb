{
 "cells": [
  {
   "cell_type": "code",
   "execution_count": 2,
   "id": "3e703bdd",
   "metadata": {},
   "outputs": [
    {
     "name": "stdout",
     "output_type": "stream",
     "text": [
      "Collecting category_encoders\n",
      "  Downloading category_encoders-2.4.1-py2.py3-none-any.whl (80 kB)\n",
      "Requirement already satisfied: scikit-learn>=0.20.0 in c:\\users\\subho\\anaconda3\\lib\\site-packages (from category_encoders) (0.24.2)Note: you may need to restart the kernel to use updated packages.\n",
      "\n",
      "Requirement already satisfied: patsy>=0.5.1 in c:\\users\\subho\\anaconda3\\lib\\site-packages (from category_encoders) (0.5.2)\n",
      "Requirement already satisfied: scipy>=1.0.0 in c:\\users\\subho\\anaconda3\\lib\\site-packages (from category_encoders) (1.7.1)\n",
      "Requirement already satisfied: pandas>=0.21.1 in c:\\users\\subho\\anaconda3\\lib\\site-packages (from category_encoders) (1.3.4)\n",
      "Requirement already satisfied: statsmodels>=0.9.0 in c:\\users\\subho\\anaconda3\\lib\\site-packages (from category_encoders) (0.12.2)\n",
      "Requirement already satisfied: numpy>=1.14.0 in c:\\users\\subho\\anaconda3\\lib\\site-packages (from category_encoders) (1.20.3)\n",
      "Requirement already satisfied: python-dateutil>=2.7.3 in c:\\users\\subho\\anaconda3\\lib\\site-packages (from pandas>=0.21.1->category_encoders) (2.8.2)\n",
      "Requirement already satisfied: pytz>=2017.3 in c:\\users\\subho\\anaconda3\\lib\\site-packages (from pandas>=0.21.1->category_encoders) (2021.3)\n",
      "Requirement already satisfied: six in c:\\users\\subho\\anaconda3\\lib\\site-packages (from patsy>=0.5.1->category_encoders) (1.16.0)\n",
      "Requirement already satisfied: joblib>=0.11 in c:\\users\\subho\\anaconda3\\lib\\site-packages (from scikit-learn>=0.20.0->category_encoders) (1.1.0)\n",
      "Requirement already satisfied: threadpoolctl>=2.0.0 in c:\\users\\subho\\anaconda3\\lib\\site-packages (from scikit-learn>=0.20.0->category_encoders) (2.2.0)\n",
      "Installing collected packages: category-encoders\n",
      "Successfully installed category-encoders-2.4.1\n"
     ]
    }
   ],
   "source": [
    "pip install category_encoders"
   ]
  },
  {
   "cell_type": "code",
   "execution_count": 10,
   "id": "ae3ce64c",
   "metadata": {},
   "outputs": [],
   "source": [
    "import category_encoders as ce\n",
    "import pandas as pd\n",
    "from sklearn.preprocessing import OrdinalEncoder"
   ]
  },
  {
   "cell_type": "markdown",
   "id": "34f84b09",
   "metadata": {},
   "source": [
    "## Label Encoding or Ordinal Encoding\n",
    "We use this categorical data encoding technique when the categorical feature is ordinal.\n",
    "In this case, retaining the order is important."
   ]
  },
  {
   "cell_type": "code",
   "execution_count": 14,
   "id": "da8fb996",
   "metadata": {},
   "outputs": [],
   "source": [
    "train_df = pd.DataFrame({'Degree': ['Phd','Masters','Bachelors','Masters','Bachelors']})"
   ]
  },
  {
   "cell_type": "code",
   "execution_count": 15,
   "id": "6496d1aa",
   "metadata": {},
   "outputs": [
    {
     "data": {
      "text/html": [
       "<div>\n",
       "<style scoped>\n",
       "    .dataframe tbody tr th:only-of-type {\n",
       "        vertical-align: middle;\n",
       "    }\n",
       "\n",
       "    .dataframe tbody tr th {\n",
       "        vertical-align: top;\n",
       "    }\n",
       "\n",
       "    .dataframe thead th {\n",
       "        text-align: right;\n",
       "    }\n",
       "</style>\n",
       "<table border=\"1\" class=\"dataframe\">\n",
       "  <thead>\n",
       "    <tr style=\"text-align: right;\">\n",
       "      <th></th>\n",
       "      <th>Degree</th>\n",
       "    </tr>\n",
       "  </thead>\n",
       "  <tbody>\n",
       "    <tr>\n",
       "      <th>0</th>\n",
       "      <td>Phd</td>\n",
       "    </tr>\n",
       "    <tr>\n",
       "      <th>1</th>\n",
       "      <td>Masters</td>\n",
       "    </tr>\n",
       "    <tr>\n",
       "      <th>2</th>\n",
       "      <td>Bachelors</td>\n",
       "    </tr>\n",
       "    <tr>\n",
       "      <th>3</th>\n",
       "      <td>Masters</td>\n",
       "    </tr>\n",
       "    <tr>\n",
       "      <th>4</th>\n",
       "      <td>Bachelors</td>\n",
       "    </tr>\n",
       "  </tbody>\n",
       "</table>\n",
       "</div>"
      ],
      "text/plain": [
       "      Degree\n",
       "0        Phd\n",
       "1    Masters\n",
       "2  Bachelors\n",
       "3    Masters\n",
       "4  Bachelors"
      ]
     },
     "execution_count": 15,
     "metadata": {},
     "output_type": "execute_result"
    }
   ],
   "source": [
    "train_df"
   ]
  },
  {
   "cell_type": "code",
   "execution_count": 25,
   "id": "65119fea",
   "metadata": {},
   "outputs": [],
   "source": [
    "or_encoder = ce.OrdinalEncoder(cols=['Degree'],\n",
    "           return_df=True, \n",
    "           mapping=[{'col':'Degree','mapping': {'Phd': 0, 'Masters': 1,'Bachelors': 2}}])"
   ]
  },
  {
   "cell_type": "code",
   "execution_count": 26,
   "id": "60ac5e41",
   "metadata": {},
   "outputs": [
    {
     "name": "stdout",
     "output_type": "stream",
     "text": [
      "   Degree\n",
      "0       0\n",
      "1       1\n",
      "2       2\n",
      "3       1\n",
      "4       2\n"
     ]
    }
   ],
   "source": [
    "result = or_encoder.fit_transform(train_df)\n",
    "print(result)"
   ]
  },
  {
   "cell_type": "markdown",
   "id": "8244468b",
   "metadata": {},
   "source": [
    "## One Hot Encoding\n",
    "\n",
    "We use this categorical data encoding technique when the features are nominal(do not have any order).\n",
    "In one hot encoding, for each level of a categorical feature, we create a new variable. \n",
    "Each category is mapped with a binary variable containing either 0 or 1.\n",
    "Here, 0 represents the absence, and 1 represents the presence of that category.\n",
    "\n",
    "These newly created binary features are known as Dummy variables. "
   ]
  },
  {
   "cell_type": "code",
   "execution_count": 27,
   "id": "5d4071e0",
   "metadata": {},
   "outputs": [],
   "source": [
    "train_one_hot_en = pd.DataFrame({'City':['Delhi','Chennai','Kolkata','Delhi','Chennai','Kolkata']})"
   ]
  },
  {
   "cell_type": "code",
   "execution_count": 34,
   "id": "bb2240cf",
   "metadata": {},
   "outputs": [],
   "source": [
    "encoder_one_hot_en = ce.OneHotEncoder(cols='City',return_df=True,use_cat_names=True)"
   ]
  },
  {
   "cell_type": "code",
   "execution_count": 35,
   "id": "6f5d29c2",
   "metadata": {},
   "outputs": [
    {
     "data": {
      "text/html": [
       "<div>\n",
       "<style scoped>\n",
       "    .dataframe tbody tr th:only-of-type {\n",
       "        vertical-align: middle;\n",
       "    }\n",
       "\n",
       "    .dataframe tbody tr th {\n",
       "        vertical-align: top;\n",
       "    }\n",
       "\n",
       "    .dataframe thead th {\n",
       "        text-align: right;\n",
       "    }\n",
       "</style>\n",
       "<table border=\"1\" class=\"dataframe\">\n",
       "  <thead>\n",
       "    <tr style=\"text-align: right;\">\n",
       "      <th></th>\n",
       "      <th>City</th>\n",
       "    </tr>\n",
       "  </thead>\n",
       "  <tbody>\n",
       "    <tr>\n",
       "      <th>0</th>\n",
       "      <td>Delhi</td>\n",
       "    </tr>\n",
       "    <tr>\n",
       "      <th>1</th>\n",
       "      <td>Chennai</td>\n",
       "    </tr>\n",
       "    <tr>\n",
       "      <th>2</th>\n",
       "      <td>Kolkata</td>\n",
       "    </tr>\n",
       "    <tr>\n",
       "      <th>3</th>\n",
       "      <td>Delhi</td>\n",
       "    </tr>\n",
       "    <tr>\n",
       "      <th>4</th>\n",
       "      <td>Chennai</td>\n",
       "    </tr>\n",
       "    <tr>\n",
       "      <th>5</th>\n",
       "      <td>Kolkata</td>\n",
       "    </tr>\n",
       "  </tbody>\n",
       "</table>\n",
       "</div>"
      ],
      "text/plain": [
       "      City\n",
       "0    Delhi\n",
       "1  Chennai\n",
       "2  Kolkata\n",
       "3    Delhi\n",
       "4  Chennai\n",
       "5  Kolkata"
      ]
     },
     "execution_count": 35,
     "metadata": {},
     "output_type": "execute_result"
    }
   ],
   "source": [
    "## Orginal Data\n",
    "train_one_hot_en"
   ]
  },
  {
   "cell_type": "code",
   "execution_count": 36,
   "id": "0dab7801",
   "metadata": {},
   "outputs": [
    {
     "data": {
      "text/html": [
       "<div>\n",
       "<style scoped>\n",
       "    .dataframe tbody tr th:only-of-type {\n",
       "        vertical-align: middle;\n",
       "    }\n",
       "\n",
       "    .dataframe tbody tr th {\n",
       "        vertical-align: top;\n",
       "    }\n",
       "\n",
       "    .dataframe thead th {\n",
       "        text-align: right;\n",
       "    }\n",
       "</style>\n",
       "<table border=\"1\" class=\"dataframe\">\n",
       "  <thead>\n",
       "    <tr style=\"text-align: right;\">\n",
       "      <th></th>\n",
       "      <th>City_Delhi</th>\n",
       "      <th>City_Chennai</th>\n",
       "      <th>City_Kolkata</th>\n",
       "    </tr>\n",
       "  </thead>\n",
       "  <tbody>\n",
       "    <tr>\n",
       "      <th>0</th>\n",
       "      <td>1</td>\n",
       "      <td>0</td>\n",
       "      <td>0</td>\n",
       "    </tr>\n",
       "    <tr>\n",
       "      <th>1</th>\n",
       "      <td>0</td>\n",
       "      <td>1</td>\n",
       "      <td>0</td>\n",
       "    </tr>\n",
       "    <tr>\n",
       "      <th>2</th>\n",
       "      <td>0</td>\n",
       "      <td>0</td>\n",
       "      <td>1</td>\n",
       "    </tr>\n",
       "    <tr>\n",
       "      <th>3</th>\n",
       "      <td>1</td>\n",
       "      <td>0</td>\n",
       "      <td>0</td>\n",
       "    </tr>\n",
       "    <tr>\n",
       "      <th>4</th>\n",
       "      <td>0</td>\n",
       "      <td>1</td>\n",
       "      <td>0</td>\n",
       "    </tr>\n",
       "    <tr>\n",
       "      <th>5</th>\n",
       "      <td>0</td>\n",
       "      <td>0</td>\n",
       "      <td>1</td>\n",
       "    </tr>\n",
       "  </tbody>\n",
       "</table>\n",
       "</div>"
      ],
      "text/plain": [
       "   City_Delhi  City_Chennai  City_Kolkata\n",
       "0           1             0             0\n",
       "1           0             1             0\n",
       "2           0             0             1\n",
       "3           1             0             0\n",
       "4           0             1             0\n",
       "5           0             0             1"
      ]
     },
     "execution_count": 36,
     "metadata": {},
     "output_type": "execute_result"
    }
   ],
   "source": [
    "encoded_one_hot_enc = encoder_one_hot_en.fit_transform(train_one_hot_en)\n",
    "encoded_one_hot_enc"
   ]
  },
  {
   "cell_type": "markdown",
   "id": "c49b1ba1",
   "metadata": {},
   "source": [
    "## Dummy Encoding\n",
    "Dummy coding scheme is similar to one-hot encoding. \n",
    "This categorical data encoding method transforms the categorical variable into a set of binary variables (also known as dummy variables). \n",
    "In the case of one-hot encoding, for N categories in a variable, it uses N binary variables.\n",
    "The dummy encoding is a small improvement over one-hot-encoding. \n",
    "Dummy encoding uses N-1 features to represent N labels/categories.\n"
   ]
  },
  {
   "cell_type": "code",
   "execution_count": 37,
   "id": "64fa855c",
   "metadata": {},
   "outputs": [],
   "source": [
    "train_dummy_encod = pd.DataFrame({'City':['Delhi','Chennai','Kolkata','Delhi','Chennai','Kolkata']})"
   ]
  },
  {
   "cell_type": "code",
   "execution_count": 38,
   "id": "614ab20f",
   "metadata": {},
   "outputs": [
    {
     "data": {
      "text/html": [
       "<div>\n",
       "<style scoped>\n",
       "    .dataframe tbody tr th:only-of-type {\n",
       "        vertical-align: middle;\n",
       "    }\n",
       "\n",
       "    .dataframe tbody tr th {\n",
       "        vertical-align: top;\n",
       "    }\n",
       "\n",
       "    .dataframe thead th {\n",
       "        text-align: right;\n",
       "    }\n",
       "</style>\n",
       "<table border=\"1\" class=\"dataframe\">\n",
       "  <thead>\n",
       "    <tr style=\"text-align: right;\">\n",
       "      <th></th>\n",
       "      <th>City</th>\n",
       "    </tr>\n",
       "  </thead>\n",
       "  <tbody>\n",
       "    <tr>\n",
       "      <th>0</th>\n",
       "      <td>Delhi</td>\n",
       "    </tr>\n",
       "    <tr>\n",
       "      <th>1</th>\n",
       "      <td>Chennai</td>\n",
       "    </tr>\n",
       "    <tr>\n",
       "      <th>2</th>\n",
       "      <td>Kolkata</td>\n",
       "    </tr>\n",
       "    <tr>\n",
       "      <th>3</th>\n",
       "      <td>Delhi</td>\n",
       "    </tr>\n",
       "    <tr>\n",
       "      <th>4</th>\n",
       "      <td>Chennai</td>\n",
       "    </tr>\n",
       "    <tr>\n",
       "      <th>5</th>\n",
       "      <td>Kolkata</td>\n",
       "    </tr>\n",
       "  </tbody>\n",
       "</table>\n",
       "</div>"
      ],
      "text/plain": [
       "      City\n",
       "0    Delhi\n",
       "1  Chennai\n",
       "2  Kolkata\n",
       "3    Delhi\n",
       "4  Chennai\n",
       "5  Kolkata"
      ]
     },
     "execution_count": 38,
     "metadata": {},
     "output_type": "execute_result"
    }
   ],
   "source": [
    "train_dummy_encod"
   ]
  },
  {
   "cell_type": "code",
   "execution_count": 39,
   "id": "9bce2a9c",
   "metadata": {},
   "outputs": [],
   "source": [
    "encoded_dummy = pd.get_dummies(data=train_dummy_encod,drop_first=True)"
   ]
  },
  {
   "cell_type": "code",
   "execution_count": 40,
   "id": "6d178a7c",
   "metadata": {},
   "outputs": [
    {
     "data": {
      "text/html": [
       "<div>\n",
       "<style scoped>\n",
       "    .dataframe tbody tr th:only-of-type {\n",
       "        vertical-align: middle;\n",
       "    }\n",
       "\n",
       "    .dataframe tbody tr th {\n",
       "        vertical-align: top;\n",
       "    }\n",
       "\n",
       "    .dataframe thead th {\n",
       "        text-align: right;\n",
       "    }\n",
       "</style>\n",
       "<table border=\"1\" class=\"dataframe\">\n",
       "  <thead>\n",
       "    <tr style=\"text-align: right;\">\n",
       "      <th></th>\n",
       "      <th>City_Delhi</th>\n",
       "      <th>City_Kolkata</th>\n",
       "    </tr>\n",
       "  </thead>\n",
       "  <tbody>\n",
       "    <tr>\n",
       "      <th>0</th>\n",
       "      <td>1</td>\n",
       "      <td>0</td>\n",
       "    </tr>\n",
       "    <tr>\n",
       "      <th>1</th>\n",
       "      <td>0</td>\n",
       "      <td>0</td>\n",
       "    </tr>\n",
       "    <tr>\n",
       "      <th>2</th>\n",
       "      <td>0</td>\n",
       "      <td>1</td>\n",
       "    </tr>\n",
       "    <tr>\n",
       "      <th>3</th>\n",
       "      <td>1</td>\n",
       "      <td>0</td>\n",
       "    </tr>\n",
       "    <tr>\n",
       "      <th>4</th>\n",
       "      <td>0</td>\n",
       "      <td>0</td>\n",
       "    </tr>\n",
       "    <tr>\n",
       "      <th>5</th>\n",
       "      <td>0</td>\n",
       "      <td>1</td>\n",
       "    </tr>\n",
       "  </tbody>\n",
       "</table>\n",
       "</div>"
      ],
      "text/plain": [
       "   City_Delhi  City_Kolkata\n",
       "0           1             0\n",
       "1           0             0\n",
       "2           0             1\n",
       "3           1             0\n",
       "4           0             0\n",
       "5           0             1"
      ]
     },
     "execution_count": 40,
     "metadata": {},
     "output_type": "execute_result"
    }
   ],
   "source": [
    "encoded_dummy"
   ]
  },
  {
   "cell_type": "markdown",
   "id": "55138079",
   "metadata": {},
   "source": [
    "## Effect Encoding\n",
    "\n",
    "This encoding technique is also known as Deviation Encoding or Sum Encoding.\n",
    "Effect encoding is almost similar to dummy encoding, with a little difference. \n",
    "In dummy coding, we use 0 and 1 to represent the data but in effect encoding, \n",
    "we use three values i.e. 1,0, and -1\n",
    "The row containing only 0s in dummy encoding is encoded as -1 in effect encoding.\n"
   ]
  },
  {
   "cell_type": "code",
   "execution_count": 41,
   "id": "a44a381b",
   "metadata": {},
   "outputs": [],
   "source": [
    "train_effect_encod = pd.DataFrame({'City':['Delhi','Chennai','Kolkata','Delhi','Chennai','Kolkata']})"
   ]
  },
  {
   "cell_type": "code",
   "execution_count": 42,
   "id": "832840b8",
   "metadata": {},
   "outputs": [
    {
     "data": {
      "text/html": [
       "<div>\n",
       "<style scoped>\n",
       "    .dataframe tbody tr th:only-of-type {\n",
       "        vertical-align: middle;\n",
       "    }\n",
       "\n",
       "    .dataframe tbody tr th {\n",
       "        vertical-align: top;\n",
       "    }\n",
       "\n",
       "    .dataframe thead th {\n",
       "        text-align: right;\n",
       "    }\n",
       "</style>\n",
       "<table border=\"1\" class=\"dataframe\">\n",
       "  <thead>\n",
       "    <tr style=\"text-align: right;\">\n",
       "      <th></th>\n",
       "      <th>City</th>\n",
       "    </tr>\n",
       "  </thead>\n",
       "  <tbody>\n",
       "    <tr>\n",
       "      <th>0</th>\n",
       "      <td>Delhi</td>\n",
       "    </tr>\n",
       "    <tr>\n",
       "      <th>1</th>\n",
       "      <td>Chennai</td>\n",
       "    </tr>\n",
       "    <tr>\n",
       "      <th>2</th>\n",
       "      <td>Kolkata</td>\n",
       "    </tr>\n",
       "    <tr>\n",
       "      <th>3</th>\n",
       "      <td>Delhi</td>\n",
       "    </tr>\n",
       "    <tr>\n",
       "      <th>4</th>\n",
       "      <td>Chennai</td>\n",
       "    </tr>\n",
       "    <tr>\n",
       "      <th>5</th>\n",
       "      <td>Kolkata</td>\n",
       "    </tr>\n",
       "  </tbody>\n",
       "</table>\n",
       "</div>"
      ],
      "text/plain": [
       "      City\n",
       "0    Delhi\n",
       "1  Chennai\n",
       "2  Kolkata\n",
       "3    Delhi\n",
       "4  Chennai\n",
       "5  Kolkata"
      ]
     },
     "execution_count": 42,
     "metadata": {},
     "output_type": "execute_result"
    }
   ],
   "source": [
    "train_effect_encod"
   ]
  },
  {
   "cell_type": "code",
   "execution_count": null,
   "id": "2ec701a5",
   "metadata": {},
   "outputs": [],
   "source": []
  },
  {
   "cell_type": "markdown",
   "id": "042be406",
   "metadata": {},
   "source": [
    "## Hash Encoder\n",
    "Hashing is the transformation of arbitrary size input in the form of a fixed-size value.\n",
    "We use hashing algorithms to perform hashing operations i.e to generate the hash value of an input. \n",
    "Further, hashing is a one-way process, in other words, one can not generate original input from the hash representation.\n",
    "By default, the Hashing encoder uses the md5 hashing algorithm.\n",
    "\n",
    "Just like one-hot encoding, the Hash encoder represents categorical features using the new dimensions.\n",
    "Here, the user can fix the number of dimensions after transformation using n_component argument.\n",
    "\n",
    "Since Hashing transforms the data in lesser dimensions, it may lead to loss of information. Another issue faced by hashing encoder is the collision.\n"
   ]
  },
  {
   "cell_type": "code",
   "execution_count": 44,
   "id": "ea28459d",
   "metadata": {},
   "outputs": [],
   "source": [
    "train_hash_encod = pd.DataFrame({'City':['Delhi','Chennai','Kolkata','Delhi','Chennai','Kolkata']})"
   ]
  },
  {
   "cell_type": "code",
   "execution_count": 47,
   "id": "8ec382fa",
   "metadata": {},
   "outputs": [],
   "source": [
    "hash_encoded = ce.HashingEncoder(cols='City',n_components=3)"
   ]
  },
  {
   "cell_type": "code",
   "execution_count": 48,
   "id": "1b158bed",
   "metadata": {},
   "outputs": [
    {
     "data": {
      "text/html": [
       "<div>\n",
       "<style scoped>\n",
       "    .dataframe tbody tr th:only-of-type {\n",
       "        vertical-align: middle;\n",
       "    }\n",
       "\n",
       "    .dataframe tbody tr th {\n",
       "        vertical-align: top;\n",
       "    }\n",
       "\n",
       "    .dataframe thead th {\n",
       "        text-align: right;\n",
       "    }\n",
       "</style>\n",
       "<table border=\"1\" class=\"dataframe\">\n",
       "  <thead>\n",
       "    <tr style=\"text-align: right;\">\n",
       "      <th></th>\n",
       "      <th>col_0</th>\n",
       "      <th>col_1</th>\n",
       "      <th>col_2</th>\n",
       "    </tr>\n",
       "  </thead>\n",
       "  <tbody>\n",
       "    <tr>\n",
       "      <th>0</th>\n",
       "      <td>0</td>\n",
       "      <td>1</td>\n",
       "      <td>0</td>\n",
       "    </tr>\n",
       "    <tr>\n",
       "      <th>1</th>\n",
       "      <td>1</td>\n",
       "      <td>0</td>\n",
       "      <td>0</td>\n",
       "    </tr>\n",
       "    <tr>\n",
       "      <th>2</th>\n",
       "      <td>1</td>\n",
       "      <td>0</td>\n",
       "      <td>0</td>\n",
       "    </tr>\n",
       "    <tr>\n",
       "      <th>3</th>\n",
       "      <td>0</td>\n",
       "      <td>1</td>\n",
       "      <td>0</td>\n",
       "    </tr>\n",
       "    <tr>\n",
       "      <th>4</th>\n",
       "      <td>1</td>\n",
       "      <td>0</td>\n",
       "      <td>0</td>\n",
       "    </tr>\n",
       "    <tr>\n",
       "      <th>5</th>\n",
       "      <td>1</td>\n",
       "      <td>0</td>\n",
       "      <td>0</td>\n",
       "    </tr>\n",
       "  </tbody>\n",
       "</table>\n",
       "</div>"
      ],
      "text/plain": [
       "   col_0  col_1  col_2\n",
       "0      0      1      0\n",
       "1      1      0      0\n",
       "2      1      0      0\n",
       "3      0      1      0\n",
       "4      1      0      0\n",
       "5      1      0      0"
      ]
     },
     "execution_count": 48,
     "metadata": {},
     "output_type": "execute_result"
    }
   ],
   "source": [
    "hash_encoded.fit_transform(train_hash_encod)"
   ]
  },
  {
   "cell_type": "markdown",
   "id": "a25f7907",
   "metadata": {},
   "source": [
    "## Binary Encoding\n",
    "\n",
    "Binary encoding is a combination of Hash encoding and one-hot encoding.\n",
    "In this encoding scheme, the categorical feature is first converted into \n",
    "numerical using an ordinal encoder. \n",
    "Then the numbers are transformed in the binary number.\n",
    "After that binary value is split into different columns."
   ]
  },
  {
   "cell_type": "code",
   "execution_count": 49,
   "id": "8f3e16b4",
   "metadata": {},
   "outputs": [],
   "source": [
    "train_Binary_encod = pd.DataFrame({'City':['Delhi','Chennai','Kolkata','Delhi','Chennai','Kolkata']})"
   ]
  },
  {
   "cell_type": "code",
   "execution_count": 55,
   "id": "ed6666ba",
   "metadata": {},
   "outputs": [],
   "source": [
    "binary_encoder = ce.BinaryEncoder(cols=['City'],return_df=True)"
   ]
  },
  {
   "cell_type": "code",
   "execution_count": 56,
   "id": "ba7d828e",
   "metadata": {},
   "outputs": [],
   "source": [
    "bin_encoded= binary_encoder.fit_transform(train_Binary_encod)"
   ]
  },
  {
   "cell_type": "code",
   "execution_count": 57,
   "id": "cd43b666",
   "metadata": {},
   "outputs": [
    {
     "data": {
      "text/html": [
       "<div>\n",
       "<style scoped>\n",
       "    .dataframe tbody tr th:only-of-type {\n",
       "        vertical-align: middle;\n",
       "    }\n",
       "\n",
       "    .dataframe tbody tr th {\n",
       "        vertical-align: top;\n",
       "    }\n",
       "\n",
       "    .dataframe thead th {\n",
       "        text-align: right;\n",
       "    }\n",
       "</style>\n",
       "<table border=\"1\" class=\"dataframe\">\n",
       "  <thead>\n",
       "    <tr style=\"text-align: right;\">\n",
       "      <th></th>\n",
       "      <th>City_0</th>\n",
       "      <th>City_1</th>\n",
       "    </tr>\n",
       "  </thead>\n",
       "  <tbody>\n",
       "    <tr>\n",
       "      <th>0</th>\n",
       "      <td>0</td>\n",
       "      <td>1</td>\n",
       "    </tr>\n",
       "    <tr>\n",
       "      <th>1</th>\n",
       "      <td>1</td>\n",
       "      <td>0</td>\n",
       "    </tr>\n",
       "    <tr>\n",
       "      <th>2</th>\n",
       "      <td>1</td>\n",
       "      <td>1</td>\n",
       "    </tr>\n",
       "    <tr>\n",
       "      <th>3</th>\n",
       "      <td>0</td>\n",
       "      <td>1</td>\n",
       "    </tr>\n",
       "    <tr>\n",
       "      <th>4</th>\n",
       "      <td>1</td>\n",
       "      <td>0</td>\n",
       "    </tr>\n",
       "    <tr>\n",
       "      <th>5</th>\n",
       "      <td>1</td>\n",
       "      <td>1</td>\n",
       "    </tr>\n",
       "  </tbody>\n",
       "</table>\n",
       "</div>"
      ],
      "text/plain": [
       "   City_0  City_1\n",
       "0       0       1\n",
       "1       1       0\n",
       "2       1       1\n",
       "3       0       1\n",
       "4       1       0\n",
       "5       1       1"
      ]
     },
     "execution_count": 57,
     "metadata": {},
     "output_type": "execute_result"
    }
   ],
   "source": [
    "bin_encoded"
   ]
  },
  {
   "cell_type": "markdown",
   "id": "59503cd1",
   "metadata": {},
   "source": [
    "## Base N Encoding\n",
    "\n",
    "For Binary encoding, the Base is 2 which means it converts the numerical values of a category into its respective Binary form.\n",
    "If you want to change the Base of encoding scheme you may use Base N encoder.\n",
    "In the case when categories are more and binary encoding is not able to handle \n",
    "the dimensionality then we can use a larger base such as 4 or 8.\n"
   ]
  },
  {
   "cell_type": "code",
   "execution_count": 54,
   "id": "912a1de2",
   "metadata": {},
   "outputs": [],
   "source": [
    "train_BaseN_encod = pd.DataFrame({'City':['Delhi','Chennai','Kolkata','Delhi','Chennai','Kolkata']})"
   ]
  },
  {
   "cell_type": "code",
   "execution_count": 61,
   "id": "024bacc4",
   "metadata": {},
   "outputs": [],
   "source": [
    "base_encoder = ce.BaseNEncoder(cols=['City'],return_df=True,base=2)"
   ]
  },
  {
   "cell_type": "code",
   "execution_count": 62,
   "id": "41446b14",
   "metadata": {},
   "outputs": [],
   "source": [
    "base_encoded = base_encoder.fit_transform(train_BaseN_encod)"
   ]
  },
  {
   "cell_type": "code",
   "execution_count": 63,
   "id": "38438835",
   "metadata": {},
   "outputs": [
    {
     "data": {
      "text/html": [
       "<div>\n",
       "<style scoped>\n",
       "    .dataframe tbody tr th:only-of-type {\n",
       "        vertical-align: middle;\n",
       "    }\n",
       "\n",
       "    .dataframe tbody tr th {\n",
       "        vertical-align: top;\n",
       "    }\n",
       "\n",
       "    .dataframe thead th {\n",
       "        text-align: right;\n",
       "    }\n",
       "</style>\n",
       "<table border=\"1\" class=\"dataframe\">\n",
       "  <thead>\n",
       "    <tr style=\"text-align: right;\">\n",
       "      <th></th>\n",
       "      <th>City_0</th>\n",
       "      <th>City_1</th>\n",
       "    </tr>\n",
       "  </thead>\n",
       "  <tbody>\n",
       "    <tr>\n",
       "      <th>0</th>\n",
       "      <td>0</td>\n",
       "      <td>1</td>\n",
       "    </tr>\n",
       "    <tr>\n",
       "      <th>1</th>\n",
       "      <td>1</td>\n",
       "      <td>0</td>\n",
       "    </tr>\n",
       "    <tr>\n",
       "      <th>2</th>\n",
       "      <td>1</td>\n",
       "      <td>1</td>\n",
       "    </tr>\n",
       "    <tr>\n",
       "      <th>3</th>\n",
       "      <td>0</td>\n",
       "      <td>1</td>\n",
       "    </tr>\n",
       "    <tr>\n",
       "      <th>4</th>\n",
       "      <td>1</td>\n",
       "      <td>0</td>\n",
       "    </tr>\n",
       "    <tr>\n",
       "      <th>5</th>\n",
       "      <td>1</td>\n",
       "      <td>1</td>\n",
       "    </tr>\n",
       "  </tbody>\n",
       "</table>\n",
       "</div>"
      ],
      "text/plain": [
       "   City_0  City_1\n",
       "0       0       1\n",
       "1       1       0\n",
       "2       1       1\n",
       "3       0       1\n",
       "4       1       0\n",
       "5       1       1"
      ]
     },
     "execution_count": 63,
     "metadata": {},
     "output_type": "execute_result"
    }
   ],
   "source": [
    "base_encoded"
   ]
  },
  {
   "cell_type": "code",
   "execution_count": null,
   "id": "8f7d8b50",
   "metadata": {},
   "outputs": [],
   "source": []
  }
 ],
 "metadata": {
  "kernelspec": {
   "display_name": "Python 3 (ipykernel)",
   "language": "python",
   "name": "python3"
  },
  "language_info": {
   "codemirror_mode": {
    "name": "ipython",
    "version": 3
   },
   "file_extension": ".py",
   "mimetype": "text/x-python",
   "name": "python",
   "nbconvert_exporter": "python",
   "pygments_lexer": "ipython3",
   "version": "3.9.7"
  }
 },
 "nbformat": 4,
 "nbformat_minor": 5
}
