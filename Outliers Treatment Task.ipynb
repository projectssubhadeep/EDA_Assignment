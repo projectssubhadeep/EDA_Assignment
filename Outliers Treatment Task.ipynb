{
 "cells": [
  {
   "cell_type": "code",
   "execution_count": 7,
   "id": "1f722f62",
   "metadata": {},
   "outputs": [],
   "source": [
    "import pandas as pd\n",
    "import numpy as np \n",
    "import matplotlib.pyplot as plt\n"
   ]
  },
  {
   "cell_type": "markdown",
   "id": "9c70e50d",
   "metadata": {},
   "source": [
    "## Detecting outliers using Boxplot"
   ]
  },
  {
   "cell_type": "code",
   "execution_count": 9,
   "id": "e33817ae",
   "metadata": {},
   "outputs": [
    {
     "data": {
      "text/plain": [
       "Text(0.5, 0, 'Data')"
      ]
     },
     "execution_count": 9,
     "metadata": {},
     "output_type": "execute_result"
    },
    {
     "data": {
      "image/png": "[encoded data removed]",
      "text/plain": [
       "<Figure size 432x288 with 1 Axes>"
      ]
     },
     "metadata": {
      "needs_background": "light"
     },
     "output_type": "display_data"
    }
   ],
   "source": [
    "data = [1,2,3,4,5,6,7,8,9,100,-100,1000,-1000]\n",
    "plt.boxplot(data,vert=False)\n",
    "plt.title('Detecting Outliers')\n",
    "plt.xlabel('Data')"
   ]
  },
  {
   "cell_type": "markdown",
   "id": "a0eb31e2",
   "metadata": {},
   "source": [
    "## Detecting outliers using the Z-scores\n",
    "\n",
    "Steps:\n",
    "1. loop through all the data points and compute the Z-score using the formula (Xi-mean)/std.\n",
    "2. define a threshold value of 3 and mark the datapoints whose absolute value of Z-score is greater than the threshold as outliers"
   ]
  },
  {
   "cell_type": "code",
   "execution_count": 19,
   "id": "a2a260c5",
   "metadata": {},
   "outputs": [],
   "source": [
    "outliers=[]\n",
    "def detect_outliers_with_zscore(data):\n",
    "    \n",
    "    threshold = 3\n",
    "    mean = np.mean(data)\n",
    "    std = np.std(data)\n",
    "    print(mean,std)\n",
    "        \n",
    "    for i in data:\n",
    "        z_score = (i - mean)/std\n",
    "        #print(z_score)\n",
    "        if np.abs(z_score) > threshold:\n",
    "           outliers.append(i)\n",
    "            \n",
    "        \n",
    "    return outliers"
   ]
  },
  {
   "cell_type": "code",
   "execution_count": 27,
   "id": "d501ca7e",
   "metadata": {},
   "outputs": [
    {
     "name": "stdout",
     "output_type": "stream",
     "text": [
      "717.5 2602.3752543178152\n",
      "Outliers are [10000, 10000]\n"
     ]
    }
   ],
   "source": [
    "data = [1,2,3,4,5,6,7,8,9,100,-100,1000,-1000,10000]\n",
    "\n",
    "outliers = detect_outliers_with_zscore(data)\n",
    "print('Outliers are', outliers)"
   ]
  },
  {
   "cell_type": "markdown",
   "id": "92747c28",
   "metadata": {},
   "source": [
    "## Detecting outliers using the Inter Quantile Range(IQR)\n",
    "\n",
    "\n",
    "Criteria: data points that lie 1.5 times of IQR above Q3 and below Q1 are outliers.\n",
    "\n",
    "steps:\n",
    "1. Sort the dataset in ascending order\n",
    "2. calculate the 1st and 3rd quartiles(Q1, Q3)\n",
    "3. compute IQR=Q3-Q1\n",
    "4. compute lower bound = (Q1–1.5*IQR), upper bound = (Q3+1.5*IQR)\n",
    "5. loop through the values of the dataset and check for those who fall below the lower bound and above the upper bound and  mark them as outliers"
   ]
  },
  {
   "cell_type": "code",
   "execution_count": 28,
   "id": "83c2d355",
   "metadata": {},
   "outputs": [],
   "source": [
    "outliers_iqr=[]\n",
    "def detecting_outliers_with_IQR(data):\n",
    "    sorted_data= sorted(data)\n",
    "    q1 = np.percentile(data,25)\n",
    "    q3 = np.percentile(data,75)\n",
    "    iqr = q3-q1\n",
    "    lower_bound = q1 - 1.5*(iqr)\n",
    "    upper_bound = q3 + 1.5*(iqr)\n",
    "    \n",
    "    for i in data:\n",
    "        if (i< lower_bound or i > upper_bound):\n",
    "            outliers_iqr.append(i)\n",
    "            \n",
    "    return outliers_iqr\n",
    "            "
   ]
  },
  {
   "cell_type": "code",
   "execution_count": 29,
   "id": "9035fc31",
   "metadata": {},
   "outputs": [
    {
     "name": "stdout",
     "output_type": "stream",
     "text": [
      "Outiers are [100, -100, 1000, -1000, 10000]\n"
     ]
    }
   ],
   "source": [
    "outliers_iqr = detecting_outliers_with_IQR(data)\n",
    "print('Outiers are',outliers_iqr)"
   ]
  },
  {
   "cell_type": "markdown",
   "id": "b7c721ad",
   "metadata": {},
   "source": [
    "## Handling Outliers\n",
    "\n",
    "\n",
    "1. Trimming/removing the outlier\n",
    "2. Quantile based flooring and capping\n",
    "3. Mean/Median imputation"
   ]
  },
  {
   "cell_type": "markdown",
   "id": "e2dbf843",
   "metadata": {},
   "source": [
    "### Trimming/Remove the outliers\n",
    "In this technique, we remove the outliers from the dataset"
   ]
  },
  {
   "cell_type": "code",
   "execution_count": 68,
   "id": "1cc8e492",
   "metadata": {},
   "outputs": [
    {
     "name": "stdout",
     "output_type": "stream",
     "text": [
      "outliers_iqr [100, -100, 1000, -1000, 10000]\n",
      "data [1, 2, 3, 4, 5, 6, 7, 8, 9, 100, -100, 1000, -1000, 10000]\n",
      "<class 'list'>\n",
      "data_arr [ 1.e+00  2.e+00  3.e+00  4.e+00  5.e+00  6.e+00  7.e+00  8.e+00  9.e+00\n",
      "  1.e+02 -1.e+02  1.e+03 -1.e+03  1.e+04]\n",
      "outlier_arr [  100.  -100.  1000. -1000. 10000.]\n",
      "a [ 2.e+00  3.e+00  4.e+00  5.e+00  6.e+00  7.e+00  8.e+00  9.e+00  1.e+02\n",
      " -1.e+02  1.e+03 -1.e+03  1.e+04]\n"
     ]
    }
   ],
   "source": [
    "print('outliers_iqr',outliers_iqr)\n",
    "print('data',data)\n",
    "print(type(data))\n",
    "\n",
    "data_arr = np.asarray(data,dtype='float64')\n",
    "print('data_arr',data_arr)\n",
    "\n",
    "outlier_arr = np.asarray(outliers_iqr,dtype='float64')\n",
    "print('outlier_arr',outlier_arr)\n",
    "    \n",
    "for i in outliers_iqr:\n",
    "    \n",
    "    #a= np.delete(data,np.where(i==data))\n",
    "    #print(d)\n",
    "    a = np.delete(data_arr,np.where(data_arr==i))\n",
    "    \n",
    "print('a',a)\n"
   ]
  },
  {
   "cell_type": "code",
   "execution_count": 79,
   "id": "9e6908f7",
   "metadata": {},
   "outputs": [],
   "source": [
    "series_data = pd.Series(data)\n",
    "series_outlier = pd.Series(outliers_iqr)"
   ]
  },
  {
   "cell_type": "code",
   "execution_count": 80,
   "id": "777f1871",
   "metadata": {},
   "outputs": [
    {
     "data": {
      "text/plain": [
       "0         1\n",
       "1         2\n",
       "2         3\n",
       "3         4\n",
       "4         5\n",
       "5         6\n",
       "6         7\n",
       "7         8\n",
       "8         9\n",
       "9       100\n",
       "10     -100\n",
       "11     1000\n",
       "12    -1000\n",
       "13    10000\n",
       "dtype: int64"
      ]
     },
     "execution_count": 80,
     "metadata": {},
     "output_type": "execute_result"
    }
   ],
   "source": [
    "series_data"
   ]
  },
  {
   "cell_type": "code",
   "execution_count": 81,
   "id": "fc7a78d4",
   "metadata": {},
   "outputs": [
    {
     "data": {
      "text/plain": [
       "0      100\n",
       "1     -100\n",
       "2     1000\n",
       "3    -1000\n",
       "4    10000\n",
       "dtype: int64"
      ]
     },
     "execution_count": 81,
     "metadata": {},
     "output_type": "execute_result"
    }
   ],
   "source": [
    "series_outlier"
   ]
  },
  {
   "cell_type": "code",
   "execution_count": 87,
   "id": "ebf7d2ff",
   "metadata": {},
   "outputs": [
    {
     "ename": "KeyError",
     "evalue": "'[100] not found in axis'",
     "output_type": "error",
     "traceback": [
      "\u001b[1;31m---------------------------------------------------------------------------\u001b[0m",
      "\u001b[1;31mKeyError\u001b[0m                                  Traceback (most recent call last)",
      "\u001b[1;32m~\\AppData\\Local\\Temp/ipykernel_3076/3531155446.py\u001b[0m in \u001b[0;36m<module>\u001b[1;34m\u001b[0m\n\u001b[0;32m      7\u001b[0m     \u001b[1;31m#a = np.delete(series_data,series_data.where(series_data==i))\u001b[0m\u001b[1;33m\u001b[0m\u001b[1;33m\u001b[0m\u001b[0m\n\u001b[0;32m      8\u001b[0m \u001b[1;33m\u001b[0m\u001b[0m\n\u001b[1;32m----> 9\u001b[1;33m     \u001b[0mseries_data\u001b[0m\u001b[1;33m.\u001b[0m\u001b[0mdrop\u001b[0m\u001b[1;33m(\u001b[0m\u001b[0mi\u001b[0m\u001b[1;33m)\u001b[0m\u001b[1;33m\u001b[0m\u001b[1;33m\u001b[0m\u001b[0m\n\u001b[0m\u001b[0;32m     10\u001b[0m \u001b[1;33m\u001b[0m\u001b[0m\n\u001b[0;32m     11\u001b[0m \u001b[1;31m# print('a',a)\u001b[0m\u001b[1;33m\u001b[0m\u001b[1;33m\u001b[0m\u001b[0m\n",
      "\u001b[1;32m~\\anaconda3\\lib\\site-packages\\pandas\\util\\_decorators.py\u001b[0m in \u001b[0;36mwrapper\u001b[1;34m(*args, **kwargs)\u001b[0m\n\u001b[0;32m    309\u001b[0m                     \u001b[0mstacklevel\u001b[0m\u001b[1;33m=\u001b[0m\u001b[0mstacklevel\u001b[0m\u001b[1;33m,\u001b[0m\u001b[1;33m\u001b[0m\u001b[1;33m\u001b[0m\u001b[0m\n\u001b[0;32m    310\u001b[0m                 )\n\u001b[1;32m--> 311\u001b[1;33m             \u001b[1;32mreturn\u001b[0m \u001b[0mfunc\u001b[0m\u001b[1;33m(\u001b[0m\u001b[1;33m*\u001b[0m\u001b[0margs\u001b[0m\u001b[1;33m,\u001b[0m \u001b[1;33m**\u001b[0m\u001b[0mkwargs\u001b[0m\u001b[1;33m)\u001b[0m\u001b[1;33m\u001b[0m\u001b[1;33m\u001b[0m\u001b[0m\n\u001b[0m\u001b[0;32m    312\u001b[0m \u001b[1;33m\u001b[0m\u001b[0m\n\u001b[0;32m    313\u001b[0m         \u001b[1;32mreturn\u001b[0m \u001b[0mwrapper\u001b[0m\u001b[1;33m\u001b[0m\u001b[1;33m\u001b[0m\u001b[0m\n",
      "\u001b[1;32m~\\anaconda3\\lib\\site-packages\\pandas\\core\\series.py\u001b[0m in \u001b[0;36mdrop\u001b[1;34m(self, labels, axis, index, columns, level, inplace, errors)\u001b[0m\n\u001b[0;32m   4677\u001b[0m         \u001b[0mdtype\u001b[0m\u001b[1;33m:\u001b[0m \u001b[0mfloat64\u001b[0m\u001b[1;33m\u001b[0m\u001b[1;33m\u001b[0m\u001b[0m\n\u001b[0;32m   4678\u001b[0m         \"\"\"\n\u001b[1;32m-> 4679\u001b[1;33m         return super().drop(\n\u001b[0m\u001b[0;32m   4680\u001b[0m             \u001b[0mlabels\u001b[0m\u001b[1;33m=\u001b[0m\u001b[0mlabels\u001b[0m\u001b[1;33m,\u001b[0m\u001b[1;33m\u001b[0m\u001b[1;33m\u001b[0m\u001b[0m\n\u001b[0;32m   4681\u001b[0m             \u001b[0maxis\u001b[0m\u001b[1;33m=\u001b[0m\u001b[0maxis\u001b[0m\u001b[1;33m,\u001b[0m\u001b[1;33m\u001b[0m\u001b[1;33m\u001b[0m\u001b[0m\n",
      "\u001b[1;32m~\\anaconda3\\lib\\site-packages\\pandas\\core\\generic.py\u001b[0m in \u001b[0;36mdrop\u001b[1;34m(self, labels, axis, index, columns, level, inplace, errors)\u001b[0m\n\u001b[0;32m   4148\u001b[0m         \u001b[1;32mfor\u001b[0m \u001b[0maxis\u001b[0m\u001b[1;33m,\u001b[0m \u001b[0mlabels\u001b[0m \u001b[1;32min\u001b[0m \u001b[0maxes\u001b[0m\u001b[1;33m.\u001b[0m\u001b[0mitems\u001b[0m\u001b[1;33m(\u001b[0m\u001b[1;33m)\u001b[0m\u001b[1;33m:\u001b[0m\u001b[1;33m\u001b[0m\u001b[1;33m\u001b[0m\u001b[0m\n\u001b[0;32m   4149\u001b[0m             \u001b[1;32mif\u001b[0m \u001b[0mlabels\u001b[0m \u001b[1;32mis\u001b[0m \u001b[1;32mnot\u001b[0m \u001b[1;32mNone\u001b[0m\u001b[1;33m:\u001b[0m\u001b[1;33m\u001b[0m\u001b[1;33m\u001b[0m\u001b[0m\n\u001b[1;32m-> 4150\u001b[1;33m                 \u001b[0mobj\u001b[0m \u001b[1;33m=\u001b[0m \u001b[0mobj\u001b[0m\u001b[1;33m.\u001b[0m\u001b[0m_drop_axis\u001b[0m\u001b[1;33m(\u001b[0m\u001b[0mlabels\u001b[0m\u001b[1;33m,\u001b[0m \u001b[0maxis\u001b[0m\u001b[1;33m,\u001b[0m \u001b[0mlevel\u001b[0m\u001b[1;33m=\u001b[0m\u001b[0mlevel\u001b[0m\u001b[1;33m,\u001b[0m \u001b[0merrors\u001b[0m\u001b[1;33m=\u001b[0m\u001b[0merrors\u001b[0m\u001b[1;33m)\u001b[0m\u001b[1;33m\u001b[0m\u001b[1;33m\u001b[0m\u001b[0m\n\u001b[0m\u001b[0;32m   4151\u001b[0m \u001b[1;33m\u001b[0m\u001b[0m\n\u001b[0;32m   4152\u001b[0m         \u001b[1;32mif\u001b[0m \u001b[0minplace\u001b[0m\u001b[1;33m:\u001b[0m\u001b[1;33m\u001b[0m\u001b[1;33m\u001b[0m\u001b[0m\n",
      "\u001b[1;32m~\\anaconda3\\lib\\site-packages\\pandas\\core\\generic.py\u001b[0m in \u001b[0;36m_drop_axis\u001b[1;34m(self, labels, axis, level, errors)\u001b[0m\n\u001b[0;32m   4183\u001b[0m                 \u001b[0mnew_axis\u001b[0m \u001b[1;33m=\u001b[0m \u001b[0maxis\u001b[0m\u001b[1;33m.\u001b[0m\u001b[0mdrop\u001b[0m\u001b[1;33m(\u001b[0m\u001b[0mlabels\u001b[0m\u001b[1;33m,\u001b[0m \u001b[0mlevel\u001b[0m\u001b[1;33m=\u001b[0m\u001b[0mlevel\u001b[0m\u001b[1;33m,\u001b[0m \u001b[0merrors\u001b[0m\u001b[1;33m=\u001b[0m\u001b[0merrors\u001b[0m\u001b[1;33m)\u001b[0m\u001b[1;33m\u001b[0m\u001b[1;33m\u001b[0m\u001b[0m\n\u001b[0;32m   4184\u001b[0m             \u001b[1;32melse\u001b[0m\u001b[1;33m:\u001b[0m\u001b[1;33m\u001b[0m\u001b[1;33m\u001b[0m\u001b[0m\n\u001b[1;32m-> 4185\u001b[1;33m                 \u001b[0mnew_axis\u001b[0m \u001b[1;33m=\u001b[0m \u001b[0maxis\u001b[0m\u001b[1;33m.\u001b[0m\u001b[0mdrop\u001b[0m\u001b[1;33m(\u001b[0m\u001b[0mlabels\u001b[0m\u001b[1;33m,\u001b[0m \u001b[0merrors\u001b[0m\u001b[1;33m=\u001b[0m\u001b[0merrors\u001b[0m\u001b[1;33m)\u001b[0m\u001b[1;33m\u001b[0m\u001b[1;33m\u001b[0m\u001b[0m\n\u001b[0m\u001b[0;32m   4186\u001b[0m             \u001b[0mresult\u001b[0m \u001b[1;33m=\u001b[0m \u001b[0mself\u001b[0m\u001b[1;33m.\u001b[0m\u001b[0mreindex\u001b[0m\u001b[1;33m(\u001b[0m\u001b[1;33m**\u001b[0m\u001b[1;33m{\u001b[0m\u001b[0maxis_name\u001b[0m\u001b[1;33m:\u001b[0m \u001b[0mnew_axis\u001b[0m\u001b[1;33m}\u001b[0m\u001b[1;33m)\u001b[0m\u001b[1;33m\u001b[0m\u001b[1;33m\u001b[0m\u001b[0m\n\u001b[0;32m   4187\u001b[0m \u001b[1;33m\u001b[0m\u001b[0m\n",
      "\u001b[1;32m~\\anaconda3\\lib\\site-packages\\pandas\\core\\indexes\\base.py\u001b[0m in \u001b[0;36mdrop\u001b[1;34m(self, labels, errors)\u001b[0m\n\u001b[0;32m   6015\u001b[0m         \u001b[1;32mif\u001b[0m \u001b[0mmask\u001b[0m\u001b[1;33m.\u001b[0m\u001b[0many\u001b[0m\u001b[1;33m(\u001b[0m\u001b[1;33m)\u001b[0m\u001b[1;33m:\u001b[0m\u001b[1;33m\u001b[0m\u001b[1;33m\u001b[0m\u001b[0m\n\u001b[0;32m   6016\u001b[0m             \u001b[1;32mif\u001b[0m \u001b[0merrors\u001b[0m \u001b[1;33m!=\u001b[0m \u001b[1;34m\"ignore\"\u001b[0m\u001b[1;33m:\u001b[0m\u001b[1;33m\u001b[0m\u001b[1;33m\u001b[0m\u001b[0m\n\u001b[1;32m-> 6017\u001b[1;33m                 \u001b[1;32mraise\u001b[0m \u001b[0mKeyError\u001b[0m\u001b[1;33m(\u001b[0m\u001b[1;34mf\"{labels[mask]} not found in axis\"\u001b[0m\u001b[1;33m)\u001b[0m\u001b[1;33m\u001b[0m\u001b[1;33m\u001b[0m\u001b[0m\n\u001b[0m\u001b[0;32m   6018\u001b[0m             \u001b[0mindexer\u001b[0m \u001b[1;33m=\u001b[0m \u001b[0mindexer\u001b[0m\u001b[1;33m[\u001b[0m\u001b[1;33m~\u001b[0m\u001b[0mmask\u001b[0m\u001b[1;33m]\u001b[0m\u001b[1;33m\u001b[0m\u001b[1;33m\u001b[0m\u001b[0m\n\u001b[0;32m   6019\u001b[0m         \u001b[1;32mreturn\u001b[0m \u001b[0mself\u001b[0m\u001b[1;33m.\u001b[0m\u001b[0mdelete\u001b[0m\u001b[1;33m(\u001b[0m\u001b[0mindexer\u001b[0m\u001b[1;33m)\u001b[0m\u001b[1;33m\u001b[0m\u001b[1;33m\u001b[0m\u001b[0m\n",
      "\u001b[1;31mKeyError\u001b[0m: '[100] not found in axis'"
     ]
    }
   ],
   "source": [
    "for i in series_outlier:\n",
    "    \n",
    "    #a= np.delete(data,np.where(i==data))\n",
    "    #print(d)\n",
    "    # a = np.delete(series_data,series_data.where(series_data==i))\n",
    "        \n",
    "    #a = np.delete(series_data,series_data.where(series_data==i))\n",
    "    \n",
    "    series_data.drop(i)\n",
    "    \n",
    "# print('a',a)\n",
    "\n",
    "print('series_data',series_data)"
   ]
  },
  {
   "cell_type": "markdown",
   "id": "3ce0ae61",
   "metadata": {},
   "source": [
    "## Above code not working"
   ]
  },
  {
   "cell_type": "markdown",
   "id": "f737cc3d",
   "metadata": {},
   "source": [
    "## Quantile based flooring and capping\n",
    "In this technique, the outlier is capped at a certain value above the 90th percentile value or \n",
    "floored at a factor below the 10th percentile value"
   ]
  },
  {
   "cell_type": "code",
   "execution_count": 70,
   "id": "650e04bd",
   "metadata": {},
   "outputs": [],
   "source": [
    "tenth_percentile = np.percentile(data, 10)\n",
    "ninetieth_percentile = np.percentile(data, 90)"
   ]
  },
  {
   "cell_type": "code",
   "execution_count": null,
   "id": "ea328062",
   "metadata": {},
   "outputs": [],
   "source": []
  },
  {
   "cell_type": "code",
   "execution_count": null,
   "id": "94e70e04",
   "metadata": {},
   "outputs": [],
   "source": []
  },
  {
   "cell_type": "code",
   "execution_count": 71,
   "id": "86a2c9f2",
   "metadata": {},
   "outputs": [
    {
     "data": {
      "text/plain": [
       "-69.69999999999999"
      ]
     },
     "execution_count": 71,
     "metadata": {},
     "output_type": "execute_result"
    }
   ],
   "source": [
    "tenth_percentile"
   ]
  },
  {
   "cell_type": "code",
   "execution_count": 72,
   "id": "038f48b7",
   "metadata": {},
   "outputs": [
    {
     "data": {
      "text/plain": [
       "730.0000000000009"
      ]
     },
     "execution_count": 72,
     "metadata": {},
     "output_type": "execute_result"
    }
   ],
   "source": [
    "ninetieth_percentile"
   ]
  },
  {
   "cell_type": "code",
   "execution_count": 91,
   "id": "d763809e",
   "metadata": {},
   "outputs": [],
   "source": [
    "# The values less than 10th percentile are replaced with 10th percentile\n",
    "b = np.where(data<tenth_percentile, tenth_percentile, data)"
   ]
  },
  {
   "cell_type": "code",
   "execution_count": 92,
   "id": "63122fc0",
   "metadata": {},
   "outputs": [],
   "source": [
    "# The values greater than 90th percentile are replaced with 90th percentile \n",
    "b = np.where(b>ninetieth_percentile, ninetieth_percentile, b)"
   ]
  },
  {
   "cell_type": "code",
   "execution_count": 93,
   "id": "c3bdad1e",
   "metadata": {},
   "outputs": [
    {
     "data": {
      "text/plain": [
       "array([  1. ,   2. ,   3. ,   4. ,   5. ,   6. ,   7. ,   8. ,   9. ,\n",
       "       100. , -69.7, 730. , -69.7, 730. ])"
      ]
     },
     "execution_count": 93,
     "metadata": {},
     "output_type": "execute_result"
    }
   ],
   "source": [
    "b"
   ]
  },
  {
   "cell_type": "code",
   "execution_count": 90,
   "id": "7786d803",
   "metadata": {},
   "outputs": [
    {
     "name": "stdout",
     "output_type": "stream",
     "text": [
      "14 14\n"
     ]
    }
   ],
   "source": [
    "print(len(data), len(b))"
   ]
  },
  {
   "cell_type": "markdown",
   "id": "ff40946f",
   "metadata": {},
   "source": [
    "## Mean/Median imputation\n",
    "\n",
    "As the mean value is highly influenced by the outliers, it is advised to replace the outliers with the median value"
   ]
  },
  {
   "cell_type": "code",
   "execution_count": 99,
   "id": "51d805e5",
   "metadata": {},
   "outputs": [
    {
     "name": "stdout",
     "output_type": "stream",
     "text": [
      "outliers_iqr [100, -100, 1000, -1000, 10000]\n",
      "Sample:  [1, 2, 3, 4, 5, 6, 7, 8, 9, 100, -100, 1000, -1000, 10000]\n",
      "New array:  [5.5 5.5 5.5 5.5 5.5 5.5 5.5 5.5 5.5 5.5 5.5 5.5 5.5 5.5]\n"
     ]
    }
   ],
   "source": [
    "median = np.median(data)# Replace with median\n",
    "print('outliers_iqr',outliers_iqr)\n",
    "for i in outliers_iqr:\n",
    "    c = np.where(data==i,data,median)\n",
    "print(\"Sample: \", data)\n",
    "print(\"New array: \",c)\n",
    "# print(x.dtype)"
   ]
  },
  {
   "cell_type": "markdown",
   "id": "c989659b",
   "metadata": {},
   "source": [
    "## Above code not working"
   ]
  },
  {
   "cell_type": "code",
   "execution_count": null,
   "id": "571ce2ef",
   "metadata": {},
   "outputs": [],
   "source": []
  }
 ],
 "metadata": {
  "kernelspec": {
   "display_name": "Python 3 (ipykernel)",
   "language": "python",
   "name": "python3"
  },
  "language_info": {
   "codemirror_mode": {
    "name": "ipython",
    "version": 3
   },
   "file_extension": ".py",
   "mimetype": "text/x-python",
   "name": "python",
   "nbconvert_exporter": "python",
   "pygments_lexer": "ipython3",
   "version": "3.9.7"
  }
 },
 "nbformat": 4,
 "nbformat_minor": 5
}
