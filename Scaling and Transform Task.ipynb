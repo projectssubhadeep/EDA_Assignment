{
 "cells": [
  {
   "cell_type": "code",
   "execution_count": 1,
   "id": "383af784",
   "metadata": {},
   "outputs": [],
   "source": [
    "import pandas as pd\n",
    "import numpy as np\n",
    "import matplotlib.pyplot as plt\n",
    "%matplotlib inline\n",
    "\n",
    "\n",
    "df = pd.DataFrame({\n",
    "    'Total_Runs': [34357, 28016, 27483, 25957,25534],\n",
    "    'Span': [25, 16, 17, 18,19],\n",
    "    'Name': ['Tendulkar','Sangakkara','Ponting','Jayawardene','Kallis']\n",
    "})"
   ]
  },
  {
   "cell_type": "code",
   "execution_count": 2,
   "id": "3f81f4b4",
   "metadata": {},
   "outputs": [
    {
     "data": {
      "text/html": [
       "<div>\n",
       "<style scoped>\n",
       "    .dataframe tbody tr th:only-of-type {\n",
       "        vertical-align: middle;\n",
       "    }\n",
       "\n",
       "    .dataframe tbody tr th {\n",
       "        vertical-align: top;\n",
       "    }\n",
       "\n",
       "    .dataframe thead th {\n",
       "        text-align: right;\n",
       "    }\n",
       "</style>\n",
       "<table border=\"1\" class=\"dataframe\">\n",
       "  <thead>\n",
       "    <tr style=\"text-align: right;\">\n",
       "      <th></th>\n",
       "      <th>Total_Runs</th>\n",
       "      <th>Span</th>\n",
       "      <th>Name</th>\n",
       "    </tr>\n",
       "  </thead>\n",
       "  <tbody>\n",
       "    <tr>\n",
       "      <th>0</th>\n",
       "      <td>34357</td>\n",
       "      <td>25</td>\n",
       "      <td>Tendulkar</td>\n",
       "    </tr>\n",
       "    <tr>\n",
       "      <th>1</th>\n",
       "      <td>28016</td>\n",
       "      <td>16</td>\n",
       "      <td>Sangakkara</td>\n",
       "    </tr>\n",
       "    <tr>\n",
       "      <th>2</th>\n",
       "      <td>27483</td>\n",
       "      <td>17</td>\n",
       "      <td>Ponting</td>\n",
       "    </tr>\n",
       "    <tr>\n",
       "      <th>3</th>\n",
       "      <td>25957</td>\n",
       "      <td>18</td>\n",
       "      <td>Jayawardene</td>\n",
       "    </tr>\n",
       "    <tr>\n",
       "      <th>4</th>\n",
       "      <td>25534</td>\n",
       "      <td>19</td>\n",
       "      <td>Kallis</td>\n",
       "    </tr>\n",
       "  </tbody>\n",
       "</table>\n",
       "</div>"
      ],
      "text/plain": [
       "   Total_Runs  Span         Name\n",
       "0       34357    25    Tendulkar\n",
       "1       28016    16   Sangakkara\n",
       "2       27483    17      Ponting\n",
       "3       25957    18  Jayawardene\n",
       "4       25534    19       Kallis"
      ]
     },
     "execution_count": 2,
     "metadata": {},
     "output_type": "execute_result"
    }
   ],
   "source": [
    "df"
   ]
  },
  {
   "cell_type": "code",
   "execution_count": 14,
   "id": "6593edee",
   "metadata": {},
   "outputs": [],
   "source": [
    "df_scaled = df.copy()\n",
    "columns = ['Total_Runs','Span']\n",
    "num_features = df_scaled[columns]"
   ]
  },
  {
   "cell_type": "code",
   "execution_count": 15,
   "id": "8569c41e",
   "metadata": {},
   "outputs": [
    {
     "data": {
      "text/html": [
       "<div>\n",
       "<style scoped>\n",
       "    .dataframe tbody tr th:only-of-type {\n",
       "        vertical-align: middle;\n",
       "    }\n",
       "\n",
       "    .dataframe tbody tr th {\n",
       "        vertical-align: top;\n",
       "    }\n",
       "\n",
       "    .dataframe thead th {\n",
       "        text-align: right;\n",
       "    }\n",
       "</style>\n",
       "<table border=\"1\" class=\"dataframe\">\n",
       "  <thead>\n",
       "    <tr style=\"text-align: right;\">\n",
       "      <th></th>\n",
       "      <th>Total_Runs</th>\n",
       "      <th>Span</th>\n",
       "    </tr>\n",
       "  </thead>\n",
       "  <tbody>\n",
       "    <tr>\n",
       "      <th>0</th>\n",
       "      <td>34357</td>\n",
       "      <td>25</td>\n",
       "    </tr>\n",
       "    <tr>\n",
       "      <th>1</th>\n",
       "      <td>28016</td>\n",
       "      <td>16</td>\n",
       "    </tr>\n",
       "    <tr>\n",
       "      <th>2</th>\n",
       "      <td>27483</td>\n",
       "      <td>17</td>\n",
       "    </tr>\n",
       "    <tr>\n",
       "      <th>3</th>\n",
       "      <td>25957</td>\n",
       "      <td>18</td>\n",
       "    </tr>\n",
       "    <tr>\n",
       "      <th>4</th>\n",
       "      <td>25534</td>\n",
       "      <td>19</td>\n",
       "    </tr>\n",
       "  </tbody>\n",
       "</table>\n",
       "</div>"
      ],
      "text/plain": [
       "   Total_Runs  Span\n",
       "0       34357    25\n",
       "1       28016    16\n",
       "2       27483    17\n",
       "3       25957    18\n",
       "4       25534    19"
      ]
     },
     "execution_count": 15,
     "metadata": {},
     "output_type": "execute_result"
    }
   ],
   "source": [
    "num_features"
   ]
  },
  {
   "cell_type": "markdown",
   "id": "afa87dd7",
   "metadata": {},
   "source": [
    "## MinMax Scaler\n",
    "\n",
    "### x_scaled = (x – x_min)/(x_max – x_min)\n",
    "\n",
    " #### It just scales all the data between 0 and 1.\n",
    " #### Though (0, 1) is the default range, we can define our range of max and min values as well."
   ]
  },
  {
   "cell_type": "code",
   "execution_count": 16,
   "id": "356a4cdb",
   "metadata": {},
   "outputs": [],
   "source": [
    "from sklearn.preprocessing import MinMaxScaler\n",
    "scaler = MinMaxScaler()"
   ]
  },
  {
   "cell_type": "code",
   "execution_count": 17,
   "id": "a9a749ce",
   "metadata": {},
   "outputs": [],
   "source": [
    "df_scaled[columns] = scaler.fit_transform(num_features.values)"
   ]
  },
  {
   "cell_type": "code",
   "execution_count": 18,
   "id": "3056c984",
   "metadata": {},
   "outputs": [
    {
     "data": {
      "text/html": [
       "<div>\n",
       "<style scoped>\n",
       "    .dataframe tbody tr th:only-of-type {\n",
       "        vertical-align: middle;\n",
       "    }\n",
       "\n",
       "    .dataframe tbody tr th {\n",
       "        vertical-align: top;\n",
       "    }\n",
       "\n",
       "    .dataframe thead th {\n",
       "        text-align: right;\n",
       "    }\n",
       "</style>\n",
       "<table border=\"1\" class=\"dataframe\">\n",
       "  <thead>\n",
       "    <tr style=\"text-align: right;\">\n",
       "      <th></th>\n",
       "      <th>Total_Runs</th>\n",
       "      <th>Span</th>\n",
       "      <th>Name</th>\n",
       "    </tr>\n",
       "  </thead>\n",
       "  <tbody>\n",
       "    <tr>\n",
       "      <th>0</th>\n",
       "      <td>1.000000</td>\n",
       "      <td>1.000000</td>\n",
       "      <td>Tendulkar</td>\n",
       "    </tr>\n",
       "    <tr>\n",
       "      <th>1</th>\n",
       "      <td>0.281310</td>\n",
       "      <td>0.000000</td>\n",
       "      <td>Sangakkara</td>\n",
       "    </tr>\n",
       "    <tr>\n",
       "      <th>2</th>\n",
       "      <td>0.220900</td>\n",
       "      <td>0.111111</td>\n",
       "      <td>Ponting</td>\n",
       "    </tr>\n",
       "    <tr>\n",
       "      <th>3</th>\n",
       "      <td>0.047943</td>\n",
       "      <td>0.222222</td>\n",
       "      <td>Jayawardene</td>\n",
       "    </tr>\n",
       "    <tr>\n",
       "      <th>4</th>\n",
       "      <td>0.000000</td>\n",
       "      <td>0.333333</td>\n",
       "      <td>Kallis</td>\n",
       "    </tr>\n",
       "  </tbody>\n",
       "</table>\n",
       "</div>"
      ],
      "text/plain": [
       "   Total_Runs      Span         Name\n",
       "0    1.000000  1.000000    Tendulkar\n",
       "1    0.281310  0.000000   Sangakkara\n",
       "2    0.220900  0.111111      Ponting\n",
       "3    0.047943  0.222222  Jayawardene\n",
       "4    0.000000  0.333333       Kallis"
      ]
     },
     "execution_count": 18,
     "metadata": {},
     "output_type": "execute_result"
    }
   ],
   "source": [
    "df_scaled"
   ]
  },
  {
   "cell_type": "code",
   "execution_count": 20,
   "id": "728cdcf2",
   "metadata": {},
   "outputs": [],
   "source": [
    "scaler10 = MinMaxScaler(feature_range=(1,10))"
   ]
  },
  {
   "cell_type": "code",
   "execution_count": 23,
   "id": "6c57037e",
   "metadata": {},
   "outputs": [],
   "source": [
    "df_scaled[columns] = scaler10.fit_transform(num_features.values)"
   ]
  },
  {
   "cell_type": "code",
   "execution_count": 24,
   "id": "4aeee890",
   "metadata": {},
   "outputs": [
    {
     "data": {
      "text/html": [
       "<div>\n",
       "<style scoped>\n",
       "    .dataframe tbody tr th:only-of-type {\n",
       "        vertical-align: middle;\n",
       "    }\n",
       "\n",
       "    .dataframe tbody tr th {\n",
       "        vertical-align: top;\n",
       "    }\n",
       "\n",
       "    .dataframe thead th {\n",
       "        text-align: right;\n",
       "    }\n",
       "</style>\n",
       "<table border=\"1\" class=\"dataframe\">\n",
       "  <thead>\n",
       "    <tr style=\"text-align: right;\">\n",
       "      <th></th>\n",
       "      <th>Total_Runs</th>\n",
       "      <th>Span</th>\n",
       "      <th>Name</th>\n",
       "    </tr>\n",
       "  </thead>\n",
       "  <tbody>\n",
       "    <tr>\n",
       "      <th>0</th>\n",
       "      <td>10.000000</td>\n",
       "      <td>10.0</td>\n",
       "      <td>Tendulkar</td>\n",
       "    </tr>\n",
       "    <tr>\n",
       "      <th>1</th>\n",
       "      <td>3.531792</td>\n",
       "      <td>1.0</td>\n",
       "      <td>Sangakkara</td>\n",
       "    </tr>\n",
       "    <tr>\n",
       "      <th>2</th>\n",
       "      <td>2.988099</td>\n",
       "      <td>2.0</td>\n",
       "      <td>Ponting</td>\n",
       "    </tr>\n",
       "    <tr>\n",
       "      <th>3</th>\n",
       "      <td>1.431486</td>\n",
       "      <td>3.0</td>\n",
       "      <td>Jayawardene</td>\n",
       "    </tr>\n",
       "    <tr>\n",
       "      <th>4</th>\n",
       "      <td>1.000000</td>\n",
       "      <td>4.0</td>\n",
       "      <td>Kallis</td>\n",
       "    </tr>\n",
       "  </tbody>\n",
       "</table>\n",
       "</div>"
      ],
      "text/plain": [
       "   Total_Runs  Span         Name\n",
       "0   10.000000  10.0    Tendulkar\n",
       "1    3.531792   1.0   Sangakkara\n",
       "2    2.988099   2.0      Ponting\n",
       "3    1.431486   3.0  Jayawardene\n",
       "4    1.000000   4.0       Kallis"
      ]
     },
     "execution_count": 24,
     "metadata": {},
     "output_type": "execute_result"
    }
   ],
   "source": [
    "df_scaled"
   ]
  },
  {
   "cell_type": "markdown",
   "id": "9c2b8c35",
   "metadata": {},
   "source": [
    "## Standard Scaler\n",
    "\n",
    "### x_scaled = x – mean/std_dev\n",
    "\n",
    "###  Standard Scaler scales the values such that the mean is 0 and the standard deviation is 1(or the variance). Standard Scaler assumes that the distribution of the variable is normal. If the distribution is not normal it wont work. \n",
    "\n"
   ]
  },
  {
   "cell_type": "code",
   "execution_count": 29,
   "id": "f0377854",
   "metadata": {},
   "outputs": [],
   "source": [
    "from sklearn.preprocessing import StandardScaler\n",
    "standard_scaler = StandardScaler()"
   ]
  },
  {
   "cell_type": "code",
   "execution_count": 31,
   "id": "2ea588f4",
   "metadata": {},
   "outputs": [],
   "source": [
    "df_scaled[columns] = standard_scaler.fit_transform(num_features) "
   ]
  },
  {
   "cell_type": "code",
   "execution_count": 32,
   "id": "ee6ef5d3",
   "metadata": {},
   "outputs": [
    {
     "data": {
      "text/html": [
       "<div>\n",
       "<style scoped>\n",
       "    .dataframe tbody tr th:only-of-type {\n",
       "        vertical-align: middle;\n",
       "    }\n",
       "\n",
       "    .dataframe tbody tr th {\n",
       "        vertical-align: top;\n",
       "    }\n",
       "\n",
       "    .dataframe thead th {\n",
       "        text-align: right;\n",
       "    }\n",
       "</style>\n",
       "<table border=\"1\" class=\"dataframe\">\n",
       "  <thead>\n",
       "    <tr style=\"text-align: right;\">\n",
       "      <th></th>\n",
       "      <th>Total_Runs</th>\n",
       "      <th>Span</th>\n",
       "      <th>Name</th>\n",
       "    </tr>\n",
       "  </thead>\n",
       "  <tbody>\n",
       "    <tr>\n",
       "      <th>0</th>\n",
       "      <td>1.914167</td>\n",
       "      <td>1.897367</td>\n",
       "      <td>Tendulkar</td>\n",
       "    </tr>\n",
       "    <tr>\n",
       "      <th>1</th>\n",
       "      <td>-0.079678</td>\n",
       "      <td>-0.948683</td>\n",
       "      <td>Sangakkara</td>\n",
       "    </tr>\n",
       "    <tr>\n",
       "      <th>2</th>\n",
       "      <td>-0.247273</td>\n",
       "      <td>-0.632456</td>\n",
       "      <td>Ponting</td>\n",
       "    </tr>\n",
       "    <tr>\n",
       "      <th>3</th>\n",
       "      <td>-0.727104</td>\n",
       "      <td>-0.316228</td>\n",
       "      <td>Jayawardene</td>\n",
       "    </tr>\n",
       "    <tr>\n",
       "      <th>4</th>\n",
       "      <td>-0.860111</td>\n",
       "      <td>0.000000</td>\n",
       "      <td>Kallis</td>\n",
       "    </tr>\n",
       "  </tbody>\n",
       "</table>\n",
       "</div>"
      ],
      "text/plain": [
       "   Total_Runs      Span         Name\n",
       "0    1.914167  1.897367    Tendulkar\n",
       "1   -0.079678 -0.948683   Sangakkara\n",
       "2   -0.247273 -0.632456      Ponting\n",
       "3   -0.727104 -0.316228  Jayawardene\n",
       "4   -0.860111  0.000000       Kallis"
      ]
     },
     "execution_count": 32,
     "metadata": {},
     "output_type": "execute_result"
    }
   ],
   "source": [
    "df_scaled"
   ]
  },
  {
   "cell_type": "markdown",
   "id": "0f06897f",
   "metadata": {},
   "source": [
    "## MaxAbsScaler\n",
    "\n",
    "### MaxAbs scaler takes the absolute maximum value of each column and divides each value in the column by the maximum value.  it first takes the absolute value of each value in the column and then takes the maximum value out of those. This operation scales the data between the range [-1, 1]. "
   ]
  },
  {
   "cell_type": "code",
   "execution_count": 3,
   "id": "67c1c5c7",
   "metadata": {},
   "outputs": [],
   "source": [
    "df_scaled2 = df.copy()"
   ]
  },
  {
   "cell_type": "code",
   "execution_count": 4,
   "id": "34185558",
   "metadata": {},
   "outputs": [
    {
     "data": {
      "text/html": [
       "<div>\n",
       "<style scoped>\n",
       "    .dataframe tbody tr th:only-of-type {\n",
       "        vertical-align: middle;\n",
       "    }\n",
       "\n",
       "    .dataframe tbody tr th {\n",
       "        vertical-align: top;\n",
       "    }\n",
       "\n",
       "    .dataframe thead th {\n",
       "        text-align: right;\n",
       "    }\n",
       "</style>\n",
       "<table border=\"1\" class=\"dataframe\">\n",
       "  <thead>\n",
       "    <tr style=\"text-align: right;\">\n",
       "      <th></th>\n",
       "      <th>Total_Runs</th>\n",
       "      <th>Span</th>\n",
       "      <th>Name</th>\n",
       "    </tr>\n",
       "  </thead>\n",
       "  <tbody>\n",
       "    <tr>\n",
       "      <th>0</th>\n",
       "      <td>34357</td>\n",
       "      <td>25</td>\n",
       "      <td>Tendulkar</td>\n",
       "    </tr>\n",
       "    <tr>\n",
       "      <th>1</th>\n",
       "      <td>28016</td>\n",
       "      <td>16</td>\n",
       "      <td>Sangakkara</td>\n",
       "    </tr>\n",
       "    <tr>\n",
       "      <th>2</th>\n",
       "      <td>27483</td>\n",
       "      <td>17</td>\n",
       "      <td>Ponting</td>\n",
       "    </tr>\n",
       "    <tr>\n",
       "      <th>3</th>\n",
       "      <td>25957</td>\n",
       "      <td>18</td>\n",
       "      <td>Jayawardene</td>\n",
       "    </tr>\n",
       "    <tr>\n",
       "      <th>4</th>\n",
       "      <td>25534</td>\n",
       "      <td>19</td>\n",
       "      <td>Kallis</td>\n",
       "    </tr>\n",
       "  </tbody>\n",
       "</table>\n",
       "</div>"
      ],
      "text/plain": [
       "   Total_Runs  Span         Name\n",
       "0       34357    25    Tendulkar\n",
       "1       28016    16   Sangakkara\n",
       "2       27483    17      Ponting\n",
       "3       25957    18  Jayawardene\n",
       "4       25534    19       Kallis"
      ]
     },
     "execution_count": 4,
     "metadata": {},
     "output_type": "execute_result"
    }
   ],
   "source": [
    "df_scaled2"
   ]
  },
  {
   "cell_type": "code",
   "execution_count": 5,
   "id": "a3c45a4d",
   "metadata": {},
   "outputs": [],
   "source": [
    "df_scaled2['Football_Rating'] = [100.0, -263.0, 2000.0, -5.0,200]"
   ]
  },
  {
   "cell_type": "code",
   "execution_count": 6,
   "id": "cc5f2751",
   "metadata": {},
   "outputs": [
    {
     "data": {
      "text/html": [
       "<div>\n",
       "<style scoped>\n",
       "    .dataframe tbody tr th:only-of-type {\n",
       "        vertical-align: middle;\n",
       "    }\n",
       "\n",
       "    .dataframe tbody tr th {\n",
       "        vertical-align: top;\n",
       "    }\n",
       "\n",
       "    .dataframe thead th {\n",
       "        text-align: right;\n",
       "    }\n",
       "</style>\n",
       "<table border=\"1\" class=\"dataframe\">\n",
       "  <thead>\n",
       "    <tr style=\"text-align: right;\">\n",
       "      <th></th>\n",
       "      <th>Total_Runs</th>\n",
       "      <th>Span</th>\n",
       "      <th>Name</th>\n",
       "      <th>Football_Rating</th>\n",
       "    </tr>\n",
       "  </thead>\n",
       "  <tbody>\n",
       "    <tr>\n",
       "      <th>0</th>\n",
       "      <td>34357</td>\n",
       "      <td>25</td>\n",
       "      <td>Tendulkar</td>\n",
       "      <td>100.0</td>\n",
       "    </tr>\n",
       "    <tr>\n",
       "      <th>1</th>\n",
       "      <td>28016</td>\n",
       "      <td>16</td>\n",
       "      <td>Sangakkara</td>\n",
       "      <td>-263.0</td>\n",
       "    </tr>\n",
       "    <tr>\n",
       "      <th>2</th>\n",
       "      <td>27483</td>\n",
       "      <td>17</td>\n",
       "      <td>Ponting</td>\n",
       "      <td>2000.0</td>\n",
       "    </tr>\n",
       "    <tr>\n",
       "      <th>3</th>\n",
       "      <td>25957</td>\n",
       "      <td>18</td>\n",
       "      <td>Jayawardene</td>\n",
       "      <td>-5.0</td>\n",
       "    </tr>\n",
       "    <tr>\n",
       "      <th>4</th>\n",
       "      <td>25534</td>\n",
       "      <td>19</td>\n",
       "      <td>Kallis</td>\n",
       "      <td>200.0</td>\n",
       "    </tr>\n",
       "  </tbody>\n",
       "</table>\n",
       "</div>"
      ],
      "text/plain": [
       "   Total_Runs  Span         Name  Football_Rating\n",
       "0       34357    25    Tendulkar            100.0\n",
       "1       28016    16   Sangakkara           -263.0\n",
       "2       27483    17      Ponting           2000.0\n",
       "3       25957    18  Jayawardene             -5.0\n",
       "4       25534    19       Kallis            200.0"
      ]
     },
     "execution_count": 6,
     "metadata": {},
     "output_type": "execute_result"
    }
   ],
   "source": [
    "df_scaled2"
   ]
  },
  {
   "cell_type": "code",
   "execution_count": 7,
   "id": "43c16cfc",
   "metadata": {},
   "outputs": [],
   "source": [
    "from sklearn.preprocessing import MaxAbsScaler\n",
    "scaler_MaxAbsScaler = MaxAbsScaler()"
   ]
  },
  {
   "cell_type": "code",
   "execution_count": 8,
   "id": "d61e415a",
   "metadata": {},
   "outputs": [],
   "source": [
    "columns1 = ['Total_Runs','Span','Football_Rating']\n",
    "num_features1 = df_scaled2[columns1]"
   ]
  },
  {
   "cell_type": "code",
   "execution_count": 9,
   "id": "a90c4e10",
   "metadata": {},
   "outputs": [],
   "source": [
    "df_scaled2[columns1] = scaler_MaxAbsScaler.fit_transform(num_features1)"
   ]
  },
  {
   "cell_type": "code",
   "execution_count": 11,
   "id": "d6ac57c4",
   "metadata": {},
   "outputs": [
    {
     "data": {
      "text/html": [
       "<div>\n",
       "<style scoped>\n",
       "    .dataframe tbody tr th:only-of-type {\n",
       "        vertical-align: middle;\n",
       "    }\n",
       "\n",
       "    .dataframe tbody tr th {\n",
       "        vertical-align: top;\n",
       "    }\n",
       "\n",
       "    .dataframe thead th {\n",
       "        text-align: right;\n",
       "    }\n",
       "</style>\n",
       "<table border=\"1\" class=\"dataframe\">\n",
       "  <thead>\n",
       "    <tr style=\"text-align: right;\">\n",
       "      <th></th>\n",
       "      <th>Total_Runs</th>\n",
       "      <th>Span</th>\n",
       "      <th>Name</th>\n",
       "      <th>Football_Rating</th>\n",
       "    </tr>\n",
       "  </thead>\n",
       "  <tbody>\n",
       "    <tr>\n",
       "      <th>0</th>\n",
       "      <td>1.000000</td>\n",
       "      <td>1.00</td>\n",
       "      <td>Tendulkar</td>\n",
       "      <td>0.0500</td>\n",
       "    </tr>\n",
       "    <tr>\n",
       "      <th>1</th>\n",
       "      <td>0.815438</td>\n",
       "      <td>0.64</td>\n",
       "      <td>Sangakkara</td>\n",
       "      <td>-0.1315</td>\n",
       "    </tr>\n",
       "    <tr>\n",
       "      <th>2</th>\n",
       "      <td>0.799924</td>\n",
       "      <td>0.68</td>\n",
       "      <td>Ponting</td>\n",
       "      <td>1.0000</td>\n",
       "    </tr>\n",
       "    <tr>\n",
       "      <th>3</th>\n",
       "      <td>0.755508</td>\n",
       "      <td>0.72</td>\n",
       "      <td>Jayawardene</td>\n",
       "      <td>-0.0025</td>\n",
       "    </tr>\n",
       "    <tr>\n",
       "      <th>4</th>\n",
       "      <td>0.743196</td>\n",
       "      <td>0.76</td>\n",
       "      <td>Kallis</td>\n",
       "      <td>0.1000</td>\n",
       "    </tr>\n",
       "  </tbody>\n",
       "</table>\n",
       "</div>"
      ],
      "text/plain": [
       "   Total_Runs  Span         Name  Football_Rating\n",
       "0    1.000000  1.00    Tendulkar           0.0500\n",
       "1    0.815438  0.64   Sangakkara          -0.1315\n",
       "2    0.799924  0.68      Ponting           1.0000\n",
       "3    0.755508  0.72  Jayawardene          -0.0025\n",
       "4    0.743196  0.76       Kallis           0.1000"
      ]
     },
     "execution_count": 11,
     "metadata": {},
     "output_type": "execute_result"
    }
   ],
   "source": [
    "df_scaled2"
   ]
  },
  {
   "cell_type": "markdown",
   "id": "48e63fbf",
   "metadata": {},
   "source": [
    "## Robust Scaler\n",
    "\n",
    "#### The Robust Scaler, as the name suggests is not sensitive to outliers. This scaler-\n",
    "#### 1. removes the median from the data\n",
    "#### 2. scales the data by the InterQuartile Range(IQR)\n",
    "\n",
    "x_scaled = (x – Q1)/(Q3 – Q1)"
   ]
  },
  {
   "cell_type": "code",
   "execution_count": 14,
   "id": "bd31eb99",
   "metadata": {},
   "outputs": [],
   "source": [
    "from sklearn.preprocessing import RobustScaler\n",
    "robust_scaler = RobustScaler()"
   ]
  },
  {
   "cell_type": "code",
   "execution_count": 18,
   "id": "9f2a7f9d",
   "metadata": {},
   "outputs": [],
   "source": [
    "df_scaled_RS = df.copy()\n",
    "columns_RS = ['Total_Runs','Span']\n",
    "scaled_features_rs=df_scaled_RS[columns_RS]\n",
    "df_scaled_RS[columns_RS] = robust_scaler.fit_transform(scaled_features_rs)"
   ]
  },
  {
   "cell_type": "code",
   "execution_count": 19,
   "id": "0f49df6e",
   "metadata": {},
   "outputs": [
    {
     "data": {
      "text/html": [
       "<div>\n",
       "<style scoped>\n",
       "    .dataframe tbody tr th:only-of-type {\n",
       "        vertical-align: middle;\n",
       "    }\n",
       "\n",
       "    .dataframe tbody tr th {\n",
       "        vertical-align: top;\n",
       "    }\n",
       "\n",
       "    .dataframe thead th {\n",
       "        text-align: right;\n",
       "    }\n",
       "</style>\n",
       "<table border=\"1\" class=\"dataframe\">\n",
       "  <thead>\n",
       "    <tr style=\"text-align: right;\">\n",
       "      <th></th>\n",
       "      <th>Total_Runs</th>\n",
       "      <th>Span</th>\n",
       "    </tr>\n",
       "  </thead>\n",
       "  <tbody>\n",
       "    <tr>\n",
       "      <th>0</th>\n",
       "      <td>3.338514</td>\n",
       "      <td>3.5</td>\n",
       "    </tr>\n",
       "    <tr>\n",
       "      <th>1</th>\n",
       "      <td>0.258864</td>\n",
       "      <td>-1.0</td>\n",
       "    </tr>\n",
       "    <tr>\n",
       "      <th>2</th>\n",
       "      <td>0.000000</td>\n",
       "      <td>-0.5</td>\n",
       "    </tr>\n",
       "    <tr>\n",
       "      <th>3</th>\n",
       "      <td>-0.741136</td>\n",
       "      <td>0.0</td>\n",
       "    </tr>\n",
       "    <tr>\n",
       "      <th>4</th>\n",
       "      <td>-0.946576</td>\n",
       "      <td>0.5</td>\n",
       "    </tr>\n",
       "  </tbody>\n",
       "</table>\n",
       "</div>"
      ],
      "text/plain": [
       "   Total_Runs  Span\n",
       "0    3.338514   3.5\n",
       "1    0.258864  -1.0\n",
       "2    0.000000  -0.5\n",
       "3   -0.741136   0.0\n",
       "4   -0.946576   0.5"
      ]
     },
     "execution_count": 19,
     "metadata": {},
     "output_type": "execute_result"
    }
   ],
   "source": [
    "df_scaled_RS[columns_RS]"
   ]
  },
  {
   "cell_type": "markdown",
   "id": "7dbe5d39",
   "metadata": {},
   "source": [
    "## Quantile Transformer Scaler\n",
    "\n",
    "###  Quantile Transformer Scaler converts the variable distribution to a normal distribution. and scales it accordingly. it also deals with the outliers.\n",
    "\n",
    "### 1. It computes the cumulative distribution function of the variable\n",
    "### 2. It uses this cdf to map the values to a normal distribution\n",
    "### 3. Maps the obtained values to the desired output distribution using the associated ### quantile function\n",
    "### Since this scaler changes the very distribution of the variables, linear relationships among variables may be destroyed by using this scaler. Thus, it is best to use this for non-linear data\n"
   ]
  },
  {
   "cell_type": "code",
   "execution_count": 20,
   "id": "2e3de573",
   "metadata": {},
   "outputs": [],
   "source": [
    "from sklearn.preprocessing import QuantileTransformer\n",
    "scaler_q = QuantileTransformer()"
   ]
  },
  {
   "cell_type": "code",
   "execution_count": 27,
   "id": "8a7f13b0",
   "metadata": {},
   "outputs": [],
   "source": [
    "df_scaled_q = df.copy()\n",
    "col_q = ['Total_Runs','Span']\n",
    "num_features_q = df_scaled_q[col_q]"
   ]
  },
  {
   "cell_type": "code",
   "execution_count": 28,
   "id": "91095c6c",
   "metadata": {},
   "outputs": [
    {
     "name": "stderr",
     "output_type": "stream",
     "text": [
      "C:\\Users\\hp\\anaconda3\\lib\\site-packages\\sklearn\\preprocessing\\_data.py:2612: UserWarning: n_quantiles (1000) is greater than the total number of samples (5). n_quantiles is set to n_samples.\n",
      "  warnings.warn(\"n_quantiles (%s) is greater than the total number \"\n"
     ]
    }
   ],
   "source": [
    "df_scaled_q[col_q]= scaler_q.fit_transform(num_features_q.values)"
   ]
  },
  {
   "cell_type": "code",
   "execution_count": 29,
   "id": "39acb2e8",
   "metadata": {},
   "outputs": [
    {
     "data": {
      "text/html": [
       "<div>\n",
       "<style scoped>\n",
       "    .dataframe tbody tr th:only-of-type {\n",
       "        vertical-align: middle;\n",
       "    }\n",
       "\n",
       "    .dataframe tbody tr th {\n",
       "        vertical-align: top;\n",
       "    }\n",
       "\n",
       "    .dataframe thead th {\n",
       "        text-align: right;\n",
       "    }\n",
       "</style>\n",
       "<table border=\"1\" class=\"dataframe\">\n",
       "  <thead>\n",
       "    <tr style=\"text-align: right;\">\n",
       "      <th></th>\n",
       "      <th>Total_Runs</th>\n",
       "      <th>Span</th>\n",
       "    </tr>\n",
       "  </thead>\n",
       "  <tbody>\n",
       "    <tr>\n",
       "      <th>0</th>\n",
       "      <td>1.00</td>\n",
       "      <td>1.00</td>\n",
       "    </tr>\n",
       "    <tr>\n",
       "      <th>1</th>\n",
       "      <td>0.75</td>\n",
       "      <td>0.00</td>\n",
       "    </tr>\n",
       "    <tr>\n",
       "      <th>2</th>\n",
       "      <td>0.50</td>\n",
       "      <td>0.25</td>\n",
       "    </tr>\n",
       "    <tr>\n",
       "      <th>3</th>\n",
       "      <td>0.25</td>\n",
       "      <td>0.50</td>\n",
       "    </tr>\n",
       "    <tr>\n",
       "      <th>4</th>\n",
       "      <td>0.00</td>\n",
       "      <td>0.75</td>\n",
       "    </tr>\n",
       "  </tbody>\n",
       "</table>\n",
       "</div>"
      ],
      "text/plain": [
       "   Total_Runs  Span\n",
       "0        1.00  1.00\n",
       "1        0.75  0.00\n",
       "2        0.50  0.25\n",
       "3        0.25  0.50\n",
       "4        0.00  0.75"
      ]
     },
     "execution_count": 29,
     "metadata": {},
     "output_type": "execute_result"
    }
   ],
   "source": [
    "df_scaled_q[col_q]"
   ]
  },
  {
   "cell_type": "markdown",
   "id": "327ea6c3",
   "metadata": {},
   "source": [
    "## Log Transform\n",
    "\n",
    "###  It is primarily used to convert a skewed distribution to a normal distribution/less-skewed distribution. In this transform, we take the log of the values in a column and use these values as the column instead.\n",
    "### Log Transform -\n",
    "### Reduces the impact of too-low values\n",
    "### Reduces the impact of too-high values.\n",
    "\n",
    "#### If our data has negative values or values ranging from 0 to 1, we cannot apply log transform directly "
   ]
  },
  {
   "cell_type": "code",
   "execution_count": 30,
   "id": "44adf414",
   "metadata": {},
   "outputs": [],
   "source": [
    "df_scaled_LT = df.copy()\n",
    "col_LT = ['Total_Runs','Span']\n",
    "num_features_LT = df_scaled_q[col_q]"
   ]
  },
  {
   "cell_type": "code",
   "execution_count": 34,
   "id": "0bf4c0dc",
   "metadata": {},
   "outputs": [
    {
     "data": {
      "text/html": [
       "<div>\n",
       "<style scoped>\n",
       "    .dataframe tbody tr th:only-of-type {\n",
       "        vertical-align: middle;\n",
       "    }\n",
       "\n",
       "    .dataframe tbody tr th {\n",
       "        vertical-align: top;\n",
       "    }\n",
       "\n",
       "    .dataframe thead th {\n",
       "        text-align: right;\n",
       "    }\n",
       "</style>\n",
       "<table border=\"1\" class=\"dataframe\">\n",
       "  <thead>\n",
       "    <tr style=\"text-align: right;\">\n",
       "      <th></th>\n",
       "      <th>Total_Runs</th>\n",
       "      <th>Span</th>\n",
       "      <th>Name</th>\n",
       "    </tr>\n",
       "  </thead>\n",
       "  <tbody>\n",
       "    <tr>\n",
       "      <th>0</th>\n",
       "      <td>34357</td>\n",
       "      <td>25</td>\n",
       "      <td>Tendulkar</td>\n",
       "    </tr>\n",
       "    <tr>\n",
       "      <th>1</th>\n",
       "      <td>28016</td>\n",
       "      <td>16</td>\n",
       "      <td>Sangakkara</td>\n",
       "    </tr>\n",
       "    <tr>\n",
       "      <th>2</th>\n",
       "      <td>27483</td>\n",
       "      <td>17</td>\n",
       "      <td>Ponting</td>\n",
       "    </tr>\n",
       "    <tr>\n",
       "      <th>3</th>\n",
       "      <td>25957</td>\n",
       "      <td>18</td>\n",
       "      <td>Jayawardene</td>\n",
       "    </tr>\n",
       "    <tr>\n",
       "      <th>4</th>\n",
       "      <td>25534</td>\n",
       "      <td>19</td>\n",
       "      <td>Kallis</td>\n",
       "    </tr>\n",
       "  </tbody>\n",
       "</table>\n",
       "</div>"
      ],
      "text/plain": [
       "   Total_Runs  Span         Name\n",
       "0       34357    25    Tendulkar\n",
       "1       28016    16   Sangakkara\n",
       "2       27483    17      Ponting\n",
       "3       25957    18  Jayawardene\n",
       "4       25534    19       Kallis"
      ]
     },
     "execution_count": 34,
     "metadata": {},
     "output_type": "execute_result"
    }
   ],
   "source": [
    "df_scaled_LT"
   ]
  },
  {
   "cell_type": "code",
   "execution_count": 37,
   "id": "5cd11c1b",
   "metadata": {},
   "outputs": [
    {
     "data": {
      "text/plain": [
       "<AxesSubplot:ylabel='Frequency'>"
      ]
     },
     "execution_count": 37,
     "metadata": {},
     "output_type": "execute_result"
    },
    {
     "data": {
      "image/png": "[encoded data removed]",
      "text/plain": [
       "<Figure size 432x288 with 1 Axes>"
      ]
     },
     "metadata": {
      "needs_background": "light"
     },
     "output_type": "display_data"
    }
   ],
   "source": [
    "df_scaled_LT['Total_Runs'].plot.hist()"
   ]
  },
  {
   "cell_type": "code",
   "execution_count": 38,
   "id": "a270bc93",
   "metadata": {},
   "outputs": [],
   "source": [
    "df_scaled_LT['log_Total_Runs'] = np.log(df_scaled_LT['Total_Runs'])"
   ]
  },
  {
   "cell_type": "code",
   "execution_count": 39,
   "id": "ed04a0f9",
   "metadata": {},
   "outputs": [
    {
     "data": {
      "text/plain": [
       "<AxesSubplot:ylabel='Frequency'>"
      ]
     },
     "execution_count": 39,
     "metadata": {},
     "output_type": "execute_result"
    },
    {
     "data": {
      "image/png": "[encoded data removed]",
      "text/plain": [
       "<Figure size 432x288 with 1 Axes>"
      ]
     },
     "metadata": {
      "needs_background": "light"
     },
     "output_type": "display_data"
    }
   ],
   "source": [
    "df_scaled_LT['log_Total_Runs'].plot.hist()"
   ]
  },
  {
   "cell_type": "code",
   "execution_count": 40,
   "id": "53916f0f",
   "metadata": {},
   "outputs": [
    {
     "data": {
      "text/html": [
       "<div>\n",
       "<style scoped>\n",
       "    .dataframe tbody tr th:only-of-type {\n",
       "        vertical-align: middle;\n",
       "    }\n",
       "\n",
       "    .dataframe tbody tr th {\n",
       "        vertical-align: top;\n",
       "    }\n",
       "\n",
       "    .dataframe thead th {\n",
       "        text-align: right;\n",
       "    }\n",
       "</style>\n",
       "<table border=\"1\" class=\"dataframe\">\n",
       "  <thead>\n",
       "    <tr style=\"text-align: right;\">\n",
       "      <th></th>\n",
       "      <th>Total_Runs</th>\n",
       "      <th>Span</th>\n",
       "      <th>Name</th>\n",
       "      <th>log_Total_Runs</th>\n",
       "    </tr>\n",
       "  </thead>\n",
       "  <tbody>\n",
       "    <tr>\n",
       "      <th>0</th>\n",
       "      <td>34357</td>\n",
       "      <td>25</td>\n",
       "      <td>Tendulkar</td>\n",
       "      <td>10.444561</td>\n",
       "    </tr>\n",
       "    <tr>\n",
       "      <th>1</th>\n",
       "      <td>28016</td>\n",
       "      <td>16</td>\n",
       "      <td>Sangakkara</td>\n",
       "      <td>10.240531</td>\n",
       "    </tr>\n",
       "    <tr>\n",
       "      <th>2</th>\n",
       "      <td>27483</td>\n",
       "      <td>17</td>\n",
       "      <td>Ponting</td>\n",
       "      <td>10.221323</td>\n",
       "    </tr>\n",
       "    <tr>\n",
       "      <th>3</th>\n",
       "      <td>25957</td>\n",
       "      <td>18</td>\n",
       "      <td>Jayawardene</td>\n",
       "      <td>10.164197</td>\n",
       "    </tr>\n",
       "    <tr>\n",
       "      <th>4</th>\n",
       "      <td>25534</td>\n",
       "      <td>19</td>\n",
       "      <td>Kallis</td>\n",
       "      <td>10.147766</td>\n",
       "    </tr>\n",
       "  </tbody>\n",
       "</table>\n",
       "</div>"
      ],
      "text/plain": [
       "   Total_Runs  Span         Name  log_Total_Runs\n",
       "0       34357    25    Tendulkar       10.444561\n",
       "1       28016    16   Sangakkara       10.240531\n",
       "2       27483    17      Ponting       10.221323\n",
       "3       25957    18  Jayawardene       10.164197\n",
       "4       25534    19       Kallis       10.147766"
      ]
     },
     "execution_count": 40,
     "metadata": {},
     "output_type": "execute_result"
    }
   ],
   "source": [
    "df_scaled_LT"
   ]
  },
  {
   "cell_type": "markdown",
   "id": "fb31e8bf",
   "metadata": {},
   "source": [
    "## Power Transformer Scaler\n",
    "\n",
    "The Power Transformer also changes the distribution of the variable, as in, it makes it more Gaussian(normal)\n",
    "However, to use them, we need to first study the original distribution, and then make a choice. The Power Transformer actually automates this decision making by introducing a parameter called lambda. It decides on a generalized power transform by finding the best value of lambda using either the:\n",
    "1. Box-Cox transform\n",
    "2. The Yeo-Johnson transform\n",
    "\n",
    "Box-Cox works with only positive values, while \n",
    "Yeo-Johnson works with both positive and negative values."
   ]
  },
  {
   "cell_type": "code",
   "execution_count": 51,
   "id": "fc9b15ee",
   "metadata": {},
   "outputs": [],
   "source": [
    "df_scaled_PT = df.copy()\n",
    "col_PT = ['Total_Runs','Span']\n",
    "num_features_PT = df_scaled_PT[col_PT]"
   ]
  },
  {
   "cell_type": "code",
   "execution_count": 52,
   "id": "133c3b9d",
   "metadata": {},
   "outputs": [],
   "source": [
    "from sklearn.preprocessing import PowerTransformer\n",
    "scaler_pt = PowerTransformer(method ='box-cox')\n",
    "df_scaled_PT[col_PT]= scaler_pt.fit_transform(num_features_PT.values)"
   ]
  },
  {
   "cell_type": "code",
   "execution_count": 55,
   "id": "e72c4425",
   "metadata": {},
   "outputs": [
    {
     "data": {
      "text/html": [
       "<div>\n",
       "<style scoped>\n",
       "    .dataframe tbody tr th:only-of-type {\n",
       "        vertical-align: middle;\n",
       "    }\n",
       "\n",
       "    .dataframe tbody tr th {\n",
       "        vertical-align: top;\n",
       "    }\n",
       "\n",
       "    .dataframe thead th {\n",
       "        text-align: right;\n",
       "    }\n",
       "</style>\n",
       "<table border=\"1\" class=\"dataframe\">\n",
       "  <thead>\n",
       "    <tr style=\"text-align: right;\">\n",
       "      <th></th>\n",
       "      <th>Total_Runs</th>\n",
       "      <th>Span</th>\n",
       "      <th>Name</th>\n",
       "    </tr>\n",
       "  </thead>\n",
       "  <tbody>\n",
       "    <tr>\n",
       "      <th>0</th>\n",
       "      <td>0.0</td>\n",
       "      <td>1.597887</td>\n",
       "      <td>Tendulkar</td>\n",
       "    </tr>\n",
       "    <tr>\n",
       "      <th>1</th>\n",
       "      <td>0.0</td>\n",
       "      <td>-1.383434</td>\n",
       "      <td>Sangakkara</td>\n",
       "    </tr>\n",
       "    <tr>\n",
       "      <th>2</th>\n",
       "      <td>0.0</td>\n",
       "      <td>-0.602313</td>\n",
       "      <td>Ponting</td>\n",
       "    </tr>\n",
       "    <tr>\n",
       "      <th>3</th>\n",
       "      <td>0.0</td>\n",
       "      <td>-0.023867</td>\n",
       "      <td>Jayawardene</td>\n",
       "    </tr>\n",
       "    <tr>\n",
       "      <th>4</th>\n",
       "      <td>0.0</td>\n",
       "      <td>0.411727</td>\n",
       "      <td>Kallis</td>\n",
       "    </tr>\n",
       "  </tbody>\n",
       "</table>\n",
       "</div>"
      ],
      "text/plain": [
       "   Total_Runs      Span         Name\n",
       "0         0.0  1.597887    Tendulkar\n",
       "1         0.0 -1.383434   Sangakkara\n",
       "2         0.0 -0.602313      Ponting\n",
       "3         0.0 -0.023867  Jayawardene\n",
       "4         0.0  0.411727       Kallis"
      ]
     },
     "execution_count": 55,
     "metadata": {},
     "output_type": "execute_result"
    }
   ],
   "source": [
    "df_scaled_PT"
   ]
  },
  {
   "cell_type": "markdown",
   "id": "1e97a233",
   "metadata": {},
   "source": [
    "## Unit Vector Scaler/Normalizer\n",
    "\n",
    "Normalization is the process of scaling individual samples to have unit norm.\n",
    "the Normalizer works on the rows. Each row of the dataframe with at least one non-zero component is rescaled independently of other samples so that its norm (l1, l2, or inf) equals one.\n",
    "\n",
    "Just like MinMax Scaler, the Normalizer also converts the values between 0 and 1, and between -1 to 1 when there are negative values in our data.\n",
    "\n",
    "However, there is a difference in the way it does so.\n",
    "\n",
    "    1. If we are using L1 norm, the values in each column are converted so that the sum of their absolute values along the row = 1\n",
    "    2. If we are using L2 norm, the values in each column are first squared and added so that the sum of their absolute values along the row = 1"
   ]
  },
  {
   "cell_type": "code",
   "execution_count": 56,
   "id": "445483ff",
   "metadata": {},
   "outputs": [],
   "source": [
    "df_scaled_Norm = df.copy()\n",
    "col_Norm = ['Total_Runs','Span']\n",
    "num_features_Norm = df_scaled_Norm[col_Norm]"
   ]
  },
  {
   "cell_type": "code",
   "execution_count": 58,
   "id": "1dcc7a65",
   "metadata": {},
   "outputs": [],
   "source": [
    "from sklearn.preprocessing import Normalizer\n",
    "scaler_norm = Normalizer(norm = 'l1')\n",
    "df_scaled_Norm[col_Norm] = scaler_norm.fit_transform(num_features_Norm.values)"
   ]
  },
  {
   "cell_type": "code",
   "execution_count": 59,
   "id": "29757ba8",
   "metadata": {},
   "outputs": [
    {
     "data": {
      "text/html": [
       "<div>\n",
       "<style scoped>\n",
       "    .dataframe tbody tr th:only-of-type {\n",
       "        vertical-align: middle;\n",
       "    }\n",
       "\n",
       "    .dataframe tbody tr th {\n",
       "        vertical-align: top;\n",
       "    }\n",
       "\n",
       "    .dataframe thead th {\n",
       "        text-align: right;\n",
       "    }\n",
       "</style>\n",
       "<table border=\"1\" class=\"dataframe\">\n",
       "  <thead>\n",
       "    <tr style=\"text-align: right;\">\n",
       "      <th></th>\n",
       "      <th>Total_Runs</th>\n",
       "      <th>Span</th>\n",
       "      <th>Name</th>\n",
       "    </tr>\n",
       "  </thead>\n",
       "  <tbody>\n",
       "    <tr>\n",
       "      <th>0</th>\n",
       "      <td>0.999273</td>\n",
       "      <td>0.000727</td>\n",
       "      <td>Tendulkar</td>\n",
       "    </tr>\n",
       "    <tr>\n",
       "      <th>1</th>\n",
       "      <td>0.999429</td>\n",
       "      <td>0.000571</td>\n",
       "      <td>Sangakkara</td>\n",
       "    </tr>\n",
       "    <tr>\n",
       "      <th>2</th>\n",
       "      <td>0.999382</td>\n",
       "      <td>0.000618</td>\n",
       "      <td>Ponting</td>\n",
       "    </tr>\n",
       "    <tr>\n",
       "      <th>3</th>\n",
       "      <td>0.999307</td>\n",
       "      <td>0.000693</td>\n",
       "      <td>Jayawardene</td>\n",
       "    </tr>\n",
       "    <tr>\n",
       "      <th>4</th>\n",
       "      <td>0.999256</td>\n",
       "      <td>0.000744</td>\n",
       "      <td>Kallis</td>\n",
       "    </tr>\n",
       "  </tbody>\n",
       "</table>\n",
       "</div>"
      ],
      "text/plain": [
       "   Total_Runs      Span         Name\n",
       "0    0.999273  0.000727    Tendulkar\n",
       "1    0.999429  0.000571   Sangakkara\n",
       "2    0.999382  0.000618      Ponting\n",
       "3    0.999307  0.000693  Jayawardene\n",
       "4    0.999256  0.000744       Kallis"
      ]
     },
     "execution_count": 59,
     "metadata": {},
     "output_type": "execute_result"
    }
   ],
   "source": [
    "df_scaled_Norm"
   ]
  },
  {
   "cell_type": "markdown",
   "id": "2b481dd9",
   "metadata": {},
   "source": [
    "## Custom Transformer"
   ]
  },
  {
   "cell_type": "code",
   "execution_count": 66,
   "id": "34458b94",
   "metadata": {},
   "outputs": [],
   "source": [
    "from sklearn.preprocessing import FunctionTransformer\n",
    "transformer_CT = FunctionTransformer(np.sqrt, validate = True)"
   ]
  },
  {
   "cell_type": "code",
   "execution_count": 67,
   "id": "e12a95bb",
   "metadata": {},
   "outputs": [],
   "source": [
    "df_scaled_CT = df.copy()\n",
    "col_CT = ['Total_Runs','Span']\n",
    "num_features_CT = df_scaled_CT[col_CT]"
   ]
  },
  {
   "cell_type": "code",
   "execution_count": 68,
   "id": "25a8cf48",
   "metadata": {},
   "outputs": [
    {
     "data": {
      "text/html": [
       "<div>\n",
       "<style scoped>\n",
       "    .dataframe tbody tr th:only-of-type {\n",
       "        vertical-align: middle;\n",
       "    }\n",
       "\n",
       "    .dataframe tbody tr th {\n",
       "        vertical-align: top;\n",
       "    }\n",
       "\n",
       "    .dataframe thead th {\n",
       "        text-align: right;\n",
       "    }\n",
       "</style>\n",
       "<table border=\"1\" class=\"dataframe\">\n",
       "  <thead>\n",
       "    <tr style=\"text-align: right;\">\n",
       "      <th></th>\n",
       "      <th>Total_Runs</th>\n",
       "      <th>Span</th>\n",
       "      <th>Name</th>\n",
       "    </tr>\n",
       "  </thead>\n",
       "  <tbody>\n",
       "    <tr>\n",
       "      <th>0</th>\n",
       "      <td>185.356413</td>\n",
       "      <td>5.000000</td>\n",
       "      <td>Tendulkar</td>\n",
       "    </tr>\n",
       "    <tr>\n",
       "      <th>1</th>\n",
       "      <td>167.379808</td>\n",
       "      <td>4.000000</td>\n",
       "      <td>Sangakkara</td>\n",
       "    </tr>\n",
       "    <tr>\n",
       "      <th>2</th>\n",
       "      <td>165.779975</td>\n",
       "      <td>4.123106</td>\n",
       "      <td>Ponting</td>\n",
       "    </tr>\n",
       "    <tr>\n",
       "      <th>3</th>\n",
       "      <td>161.111762</td>\n",
       "      <td>4.242641</td>\n",
       "      <td>Jayawardene</td>\n",
       "    </tr>\n",
       "    <tr>\n",
       "      <th>4</th>\n",
       "      <td>159.793617</td>\n",
       "      <td>4.358899</td>\n",
       "      <td>Kallis</td>\n",
       "    </tr>\n",
       "  </tbody>\n",
       "</table>\n",
       "</div>"
      ],
      "text/plain": [
       "   Total_Runs      Span         Name\n",
       "0  185.356413  5.000000    Tendulkar\n",
       "1  167.379808  4.000000   Sangakkara\n",
       "2  165.779975  4.123106      Ponting\n",
       "3  161.111762  4.242641  Jayawardene\n",
       "4  159.793617  4.358899       Kallis"
      ]
     },
     "execution_count": 68,
     "metadata": {},
     "output_type": "execute_result"
    }
   ],
   "source": [
    "df_scaled_CT[col_CT] = transformer_CT.transform(num_features_CT.values)\n",
    "df_scaled_CT"
   ]
  },
  {
   "cell_type": "code",
   "execution_count": null,
   "id": "eed25353",
   "metadata": {},
   "outputs": [],
   "source": []
  }
 ],
 "metadata": {
  "kernelspec": {
   "display_name": "Python 3 (ipykernel)",
   "language": "python",
   "name": "python3"
  },
  "language_info": {
   "codemirror_mode": {
    "name": "ipython",
    "version": 3
   },
   "file_extension": ".py",
   "mimetype": "text/x-python",
   "name": "python",
   "nbconvert_exporter": "python",
   "pygments_lexer": "ipython3",
   "version": "3.9.7"
  }
 },
 "nbformat": 4,
 "nbformat_minor": 5
}
